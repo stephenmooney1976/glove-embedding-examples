{
 "cells": [
  {
   "cell_type": "markdown",
   "metadata": {},
   "source": [
    "# Text Search Engine\n",
    "\n",
    "This notebook demonstrates code to build a Text Search Engine. This example uses a BERT model to convert text to embedding vectors stored in Milvus (milvus.io), a vector database. Postgres is then used to store text information about articles and is used to join back the human-readable version of results found by Milvus.\n",
    "\n",
    "## Data\n",
    "\n",
    "This example uses a kaggle dataset of news articles obtained externally (see reference below). This data is in JSON format and contains many other data points that could be used for search capabilities. For this example, we are using only the headline of the article for searching capabilities.\n",
    "<p>\n",
    "The dataset is quite large, and thus has been divided up into three separate files that can be used for embeddings (Small, Medium, and the entire dataset. Depending on available compute resources, you may decide to use one of the smaller files.\n",
    "    \n",
    "## Requirements\n",
    "    \n",
    "A requirements.txt file has been provided (002-requirements.txt). Here are the packages used for this example:\n",
    "    \n",
    "| Package               |\n",
    "|-----------------------|\n",
    "| pymilvus              |\n",
    "| flask-cors            |\n",
    "| numpy                 |\n",
    "| flask                 |\n",
    "| flask_restful         |\n",
    "| psycopg2-binary       |\n",
    "| sentence_transformers |\n"
   ]
  },
  {
   "cell_type": "markdown",
   "metadata": {},
   "source": [
    "## Installing necessary software\n",
    "\n",
    "All required python packages are included in this requirements.txt file."
   ]
  },
  {
   "cell_type": "code",
   "execution_count": 21,
   "metadata": {
    "collapsed": true,
    "jupyter": {
     "outputs_hidden": true
    }
   },
   "outputs": [
    {
     "name": "stdout",
     "output_type": "stream",
     "text": [
      "huggingface/tokenizers: The current process just got forked, after parallelism has already been used. Disabling parallelism to avoid deadlocks...\n",
      "To disable this warning, you can either:\n",
      "\t- Avoid using `tokenizers` before the fork if possible\n",
      "\t- Explicitly set the environment variable TOKENIZERS_PARALLELISM=(true | false)\n",
      "Requirement already satisfied: pymilvus in /Users/spm1976/anaconda3/lib/python3.10/site-packages (from -r 002-requirements.txt (line 1)) (2.2.9)\n",
      "Requirement already satisfied: flask-cors in /Users/spm1976/anaconda3/lib/python3.10/site-packages (from -r 002-requirements.txt (line 2)) (3.0.10)\n",
      "Requirement already satisfied: numpy in /Users/spm1976/anaconda3/lib/python3.10/site-packages (from -r 002-requirements.txt (line 3)) (1.24.3)\n",
      "Requirement already satisfied: flask in /Users/spm1976/anaconda3/lib/python3.10/site-packages (from -r 002-requirements.txt (line 4)) (2.3.2)\n",
      "Requirement already satisfied: flask_restful in /Users/spm1976/anaconda3/lib/python3.10/site-packages (from -r 002-requirements.txt (line 5)) (0.3.10)\n",
      "Requirement already satisfied: psycopg2-binary in /Users/spm1976/anaconda3/lib/python3.10/site-packages (from -r 002-requirements.txt (line 6)) (2.9.6)\n",
      "Requirement already satisfied: sentence_transformers in /Users/spm1976/anaconda3/lib/python3.10/site-packages (from -r 002-requirements.txt (line 7)) (2.2.2)\n",
      "Requirement already satisfied: pandas>=1.2.4 in /Users/spm1976/anaconda3/lib/python3.10/site-packages (from pymilvus->-r 002-requirements.txt (line 1)) (2.0.2)\n",
      "Requirement already satisfied: grpcio<=1.53.0,>=1.49.1 in /Users/spm1976/anaconda3/lib/python3.10/site-packages (from pymilvus->-r 002-requirements.txt (line 1)) (1.53.0)\n",
      "Requirement already satisfied: protobuf>=3.20.0 in /Users/spm1976/anaconda3/lib/python3.10/site-packages (from pymilvus->-r 002-requirements.txt (line 1)) (4.22.4)\n",
      "Requirement already satisfied: environs<=9.5.0 in /Users/spm1976/anaconda3/lib/python3.10/site-packages (from pymilvus->-r 002-requirements.txt (line 1)) (9.5.0)\n",
      "Requirement already satisfied: ujson>=2.0.0 in /Users/spm1976/anaconda3/lib/python3.10/site-packages (from pymilvus->-r 002-requirements.txt (line 1)) (5.4.0)\n",
      "Requirement already satisfied: Six in /Users/spm1976/anaconda3/lib/python3.10/site-packages (from flask-cors->-r 002-requirements.txt (line 2)) (1.16.0)\n",
      "Requirement already satisfied: Jinja2>=3.1.2 in /Users/spm1976/anaconda3/lib/python3.10/site-packages (from flask->-r 002-requirements.txt (line 4)) (3.1.2)\n",
      "Requirement already satisfied: blinker>=1.6.2 in /Users/spm1976/anaconda3/lib/python3.10/site-packages (from flask->-r 002-requirements.txt (line 4)) (1.6.2)\n",
      "Requirement already satisfied: itsdangerous>=2.1.2 in /Users/spm1976/anaconda3/lib/python3.10/site-packages (from flask->-r 002-requirements.txt (line 4)) (2.1.2)\n",
      "Requirement already satisfied: click>=8.1.3 in /Users/spm1976/anaconda3/lib/python3.10/site-packages (from flask->-r 002-requirements.txt (line 4)) (8.1.3)\n",
      "Requirement already satisfied: Werkzeug>=2.3.3 in /Users/spm1976/anaconda3/lib/python3.10/site-packages (from flask->-r 002-requirements.txt (line 4)) (2.3.4)\n",
      "Requirement already satisfied: aniso8601>=0.82 in /Users/spm1976/anaconda3/lib/python3.10/site-packages (from flask_restful->-r 002-requirements.txt (line 5)) (9.0.1)\n",
      "Requirement already satisfied: pytz in /Users/spm1976/anaconda3/lib/python3.10/site-packages (from flask_restful->-r 002-requirements.txt (line 5)) (2022.7)\n",
      "Requirement already satisfied: nltk in /Users/spm1976/anaconda3/lib/python3.10/site-packages (from sentence_transformers->-r 002-requirements.txt (line 7)) (3.8.1)\n",
      "Requirement already satisfied: transformers<5.0.0,>=4.6.0 in /Users/spm1976/anaconda3/lib/python3.10/site-packages (from sentence_transformers->-r 002-requirements.txt (line 7)) (4.29.2)\n",
      "Requirement already satisfied: scipy in /Users/spm1976/anaconda3/lib/python3.10/site-packages (from sentence_transformers->-r 002-requirements.txt (line 7)) (1.10.1)\n",
      "Requirement already satisfied: sentencepiece in /Users/spm1976/anaconda3/lib/python3.10/site-packages (from sentence_transformers->-r 002-requirements.txt (line 7)) (0.1.99)\n",
      "Requirement already satisfied: scikit-learn in /Users/spm1976/anaconda3/lib/python3.10/site-packages (from sentence_transformers->-r 002-requirements.txt (line 7)) (1.2.2)\n",
      "Requirement already satisfied: huggingface-hub>=0.4.0 in /Users/spm1976/anaconda3/lib/python3.10/site-packages (from sentence_transformers->-r 002-requirements.txt (line 7)) (0.15.1)\n",
      "Requirement already satisfied: torch>=1.6.0 in /Users/spm1976/anaconda3/lib/python3.10/site-packages (from sentence_transformers->-r 002-requirements.txt (line 7)) (2.0.1)\n",
      "Requirement already satisfied: tqdm in /Users/spm1976/anaconda3/lib/python3.10/site-packages (from sentence_transformers->-r 002-requirements.txt (line 7)) (4.65.0)\n",
      "Requirement already satisfied: torchvision in /Users/spm1976/anaconda3/lib/python3.10/site-packages (from sentence_transformers->-r 002-requirements.txt (line 7)) (0.15.2)\n",
      "Requirement already satisfied: python-dotenv in /Users/spm1976/anaconda3/lib/python3.10/site-packages (from environs<=9.5.0->pymilvus->-r 002-requirements.txt (line 1)) (1.0.0)\n",
      "Requirement already satisfied: marshmallow>=3.0.0 in /Users/spm1976/anaconda3/lib/python3.10/site-packages (from environs<=9.5.0->pymilvus->-r 002-requirements.txt (line 1)) (3.19.0)\n",
      "Requirement already satisfied: typing-extensions>=3.7.4.3 in /Users/spm1976/anaconda3/lib/python3.10/site-packages (from huggingface-hub>=0.4.0->sentence_transformers->-r 002-requirements.txt (line 7)) (4.5.0)\n",
      "Requirement already satisfied: requests in /Users/spm1976/anaconda3/lib/python3.10/site-packages (from huggingface-hub>=0.4.0->sentence_transformers->-r 002-requirements.txt (line 7)) (2.29.0)\n",
      "Requirement already satisfied: filelock in /Users/spm1976/anaconda3/lib/python3.10/site-packages (from huggingface-hub>=0.4.0->sentence_transformers->-r 002-requirements.txt (line 7)) (3.9.0)\n",
      "Requirement already satisfied: pyyaml>=5.1 in /Users/spm1976/anaconda3/lib/python3.10/site-packages (from huggingface-hub>=0.4.0->sentence_transformers->-r 002-requirements.txt (line 7)) (6.0)\n",
      "Requirement already satisfied: fsspec in /Users/spm1976/anaconda3/lib/python3.10/site-packages (from huggingface-hub>=0.4.0->sentence_transformers->-r 002-requirements.txt (line 7)) (2023.5.0)\n",
      "Requirement already satisfied: packaging>=20.9 in /Users/spm1976/anaconda3/lib/python3.10/site-packages (from huggingface-hub>=0.4.0->sentence_transformers->-r 002-requirements.txt (line 7)) (23.0)\n",
      "Requirement already satisfied: MarkupSafe>=2.0 in /Users/spm1976/anaconda3/lib/python3.10/site-packages (from Jinja2>=3.1.2->flask->-r 002-requirements.txt (line 4)) (2.1.1)\n",
      "Requirement already satisfied: tzdata>=2022.1 in /Users/spm1976/anaconda3/lib/python3.10/site-packages (from pandas>=1.2.4->pymilvus->-r 002-requirements.txt (line 1)) (2023.3)\n",
      "Requirement already satisfied: python-dateutil>=2.8.2 in /Users/spm1976/anaconda3/lib/python3.10/site-packages (from pandas>=1.2.4->pymilvus->-r 002-requirements.txt (line 1)) (2.8.2)\n",
      "Requirement already satisfied: networkx in /Users/spm1976/anaconda3/lib/python3.10/site-packages (from torch>=1.6.0->sentence_transformers->-r 002-requirements.txt (line 7)) (3.1)\n",
      "Requirement already satisfied: sympy in /Users/spm1976/anaconda3/lib/python3.10/site-packages (from torch>=1.6.0->sentence_transformers->-r 002-requirements.txt (line 7)) (1.12)\n",
      "Requirement already satisfied: tokenizers!=0.11.3,<0.14,>=0.11.1 in /Users/spm1976/anaconda3/lib/python3.10/site-packages (from transformers<5.0.0,>=4.6.0->sentence_transformers->-r 002-requirements.txt (line 7)) (0.13.3)\n",
      "Requirement already satisfied: regex!=2019.12.17 in /Users/spm1976/anaconda3/lib/python3.10/site-packages (from transformers<5.0.0,>=4.6.0->sentence_transformers->-r 002-requirements.txt (line 7)) (2023.6.3)\n",
      "Requirement already satisfied: joblib in /Users/spm1976/anaconda3/lib/python3.10/site-packages (from nltk->sentence_transformers->-r 002-requirements.txt (line 7)) (1.2.0)\n",
      "Requirement already satisfied: threadpoolctl>=2.0.0 in /Users/spm1976/anaconda3/lib/python3.10/site-packages (from scikit-learn->sentence_transformers->-r 002-requirements.txt (line 7)) (3.1.0)\n",
      "Requirement already satisfied: pillow!=8.3.*,>=5.3.0 in /Users/spm1976/anaconda3/lib/python3.10/site-packages (from torchvision->sentence_transformers->-r 002-requirements.txt (line 7)) (9.4.0)\n",
      "Requirement already satisfied: charset-normalizer<4,>=2 in /Users/spm1976/anaconda3/lib/python3.10/site-packages (from requests->huggingface-hub>=0.4.0->sentence_transformers->-r 002-requirements.txt (line 7)) (2.0.4)\n",
      "Requirement already satisfied: certifi>=2017.4.17 in /Users/spm1976/anaconda3/lib/python3.10/site-packages (from requests->huggingface-hub>=0.4.0->sentence_transformers->-r 002-requirements.txt (line 7)) (2023.5.7)\n",
      "Requirement already satisfied: idna<4,>=2.5 in /Users/spm1976/anaconda3/lib/python3.10/site-packages (from requests->huggingface-hub>=0.4.0->sentence_transformers->-r 002-requirements.txt (line 7)) (3.4)\n",
      "Requirement already satisfied: urllib3<1.27,>=1.21.1 in /Users/spm1976/anaconda3/lib/python3.10/site-packages (from requests->huggingface-hub>=0.4.0->sentence_transformers->-r 002-requirements.txt (line 7)) (1.26.15)\n",
      "Requirement already satisfied: mpmath>=0.19 in /Users/spm1976/anaconda3/lib/python3.10/site-packages (from sympy->torch>=1.6.0->sentence_transformers->-r 002-requirements.txt (line 7)) (1.3.0)\n",
      "Note: you may need to restart the kernel to use updated packages.\n"
     ]
    }
   ],
   "source": [
    "%pip install -r 002-requirements.txt"
   ]
  },
  {
   "cell_type": "markdown",
   "metadata": {},
   "source": [
    "## Starting the Milvus server and Postgres\n",
    "\n",
    "This demo uses Milvus. Please refer to the Install Milvus guide to learn how to use this docker container. The milvus standard docker-compose.yml has been modified for this example to use appropriate packages.\n",
    "\n",
    "Part of this demo uses Postgres for saving text information. This is also started in this step (docker postgres:latest)."
   ]
  },
  {
   "cell_type": "code",
   "execution_count": 22,
   "metadata": {
    "collapsed": true,
    "jupyter": {
     "outputs_hidden": true
    }
   },
   "outputs": [
    {
     "name": "stdout",
     "output_type": "stream",
     "text": [
      "huggingface/tokenizers: The current process just got forked, after parallelism has already been used. Disabling parallelism to avoid deadlocks...\n",
      "To disable this warning, you can either:\n",
      "\t- Avoid using `tokenizers` before the fork if possible\n",
      "\t- Explicitly set the environment variable TOKENIZERS_PARALLELISM=(true | false)\n",
      "\u001b[1A\u001b[1B\u001b[0G\u001b[?25l[+] Running 1/0\n",
      " \u001b[32m✔\u001b[0m Network milvus          \u001b[32mCreated\u001b[0m                                         \u001b[34m0.0s \u001b[0m\n",
      " ⠋ Container milvus-etcd   Creating                                        \u001b[34m0.0s \u001b[0m\n",
      " ⠋ Container milvus-minio  Creating                                        \u001b[34m0.0s \u001b[0m\n",
      "\u001b[?25h\u001b[1A\u001b[1A\u001b[1A\u001b[1A\u001b[0G\u001b[?25l\u001b[34m[+] Running 3/3\u001b[0m\n",
      " \u001b[32m✔\u001b[0m Network milvus                                                                                                                                            \u001b[32mCreated\u001b[0m\u001b[34m0.0s \u001b[0m\n",
      " ⠿ Container milvus-etcd                                                                                                                                     Starting\u001b[34m0.1s \u001b[0m\n",
      " ⠿ Container milvus-minio                                                                                                                                    Starting\u001b[34m0.1s \u001b[0m\n",
      " \u001b[32m✔\u001b[0m Container milvus-standalone                                                                                                                               \u001b[32mCreated\u001b[0m\u001b[34m0.0s \u001b[0m\n",
      " \u001b[33m\u001b[1m!\u001b[0m standalone The requested image's platform (linux/amd64) does not match the detected host platform (linux/arm64/v8) and no specific platform was requested \u001b[33m\u001b[1m\u001b[0m\u001b[34m0.0s \u001b[0m\n",
      "\u001b[?25h\u001b[1A\u001b[1A\u001b[1A\u001b[1A\u001b[1A\u001b[1A\u001b[0G\u001b[?25l[+] Running 3/5\n",
      " \u001b[32m✔\u001b[0m Network milvus                                                                                                                                            \u001b[32mCreated\u001b[0m\u001b[34m0.0s \u001b[0m\n",
      " ⠿ Container milvus-etcd                                                                                                                                     Starting\u001b[34m0.2s \u001b[0m\n",
      " ⠿ Container milvus-minio                                                                                                                                    Starting\u001b[34m0.2s \u001b[0m\n",
      " \u001b[32m✔\u001b[0m Container milvus-standalone                                                                                                                               \u001b[32mCreated\u001b[0m\u001b[34m0.0s \u001b[0m\n",
      " \u001b[33m\u001b[1m!\u001b[0m standalone The requested image's platform (linux/amd64) does not match the detected host platform (linux/arm64/v8) and no specific platform was requested \u001b[33m\u001b[1m\u001b[0m\u001b[34m0.0s \u001b[0m\n",
      "\u001b[?25h\u001b[1A\u001b[1A\u001b[1A\u001b[1A\u001b[1A\u001b[1A\u001b[0G\u001b[?25l[+] Running 3/5\n",
      " \u001b[32m✔\u001b[0m Network milvus                                                                                                                                            \u001b[32mCreated\u001b[0m\u001b[34m0.0s \u001b[0m\n",
      " ⠿ Container milvus-etcd                                                                                                                                     Starting\u001b[34m0.3s \u001b[0m\n",
      " ⠿ Container milvus-minio                                                                                                                                    Starting\u001b[34m0.3s \u001b[0m\n",
      " \u001b[32m✔\u001b[0m Container milvus-standalone                                                                                                                               \u001b[32mCreated\u001b[0m\u001b[34m0.0s \u001b[0m\n",
      " \u001b[33m\u001b[1m!\u001b[0m standalone The requested image's platform (linux/amd64) does not match the detected host platform (linux/arm64/v8) and no specific platform was requested \u001b[33m\u001b[1m\u001b[0m\u001b[34m0.0s \u001b[0m\n",
      "\u001b[?25h\u001b[1A\u001b[1A\u001b[1A\u001b[1A\u001b[1A\u001b[1A\u001b[0G\u001b[?25l[+] Running 4/5\n",
      " \u001b[32m✔\u001b[0m Network milvus                                                                                                                                            \u001b[32mCreated\u001b[0m\u001b[34m0.0s \u001b[0m\n",
      " \u001b[32m✔\u001b[0m Container milvus-etcd                                                                                                                                     \u001b[32mStarted\u001b[0m\u001b[34m0.3s \u001b[0m\n",
      " \u001b[32m✔\u001b[0m Container milvus-minio                                                                                                                                    \u001b[32mStarted\u001b[0m\u001b[34m0.4s \u001b[0m\n",
      " ⠿ Container milvus-standalone                                                                                                                               Starting\u001b[34m0.4s \u001b[0m\n",
      " \u001b[33m\u001b[1m!\u001b[0m standalone The requested image's platform (linux/amd64) does not match the detected host platform (linux/arm64/v8) and no specific platform was requested \u001b[33m\u001b[1m\u001b[0m\u001b[34m0.0s \u001b[0m\n",
      "\u001b[?25h\u001b[1A\u001b[1A\u001b[1A\u001b[1A\u001b[1A\u001b[1A\u001b[0G\u001b[?25l[+] Running 4/5\n",
      " \u001b[32m✔\u001b[0m Network milvus                                                                                                                                            \u001b[32mCreated\u001b[0m\u001b[34m0.0s \u001b[0m\n",
      " \u001b[32m✔\u001b[0m Container milvus-etcd                                                                                                                                     \u001b[32mStarted\u001b[0m\u001b[34m0.3s \u001b[0m\n",
      " \u001b[32m✔\u001b[0m Container milvus-minio                                                                                                                                    \u001b[32mStarted\u001b[0m\u001b[34m0.4s \u001b[0m\n",
      " ⠿ Container milvus-standalone                                                                                                                               Starting\u001b[34m0.5s \u001b[0m\n",
      " \u001b[33m\u001b[1m!\u001b[0m standalone The requested image's platform (linux/amd64) does not match the detected host platform (linux/arm64/v8) and no specific platform was requested \u001b[33m\u001b[1m\u001b[0m\u001b[34m0.0s \u001b[0m\n",
      "\u001b[?25h\u001b[1A\u001b[1A\u001b[1A\u001b[1A\u001b[1A\u001b[1A\u001b[0G\u001b[?25l[+] Running 4/5\n",
      " \u001b[32m✔\u001b[0m Network milvus                                                                                                                                            \u001b[32mCreated\u001b[0m\u001b[34m0.0s \u001b[0m\n",
      " \u001b[32m✔\u001b[0m Container milvus-etcd                                                                                                                                     \u001b[32mStarted\u001b[0m\u001b[34m0.3s \u001b[0m\n",
      " \u001b[32m✔\u001b[0m Container milvus-minio                                                                                                                                    \u001b[32mStarted\u001b[0m\u001b[34m0.4s \u001b[0m\n",
      " ⠿ Container milvus-standalone                                                                                                                               Starting\u001b[34m0.6s \u001b[0m\n",
      " \u001b[33m\u001b[1m!\u001b[0m standalone The requested image's platform (linux/amd64) does not match the detected host platform (linux/arm64/v8) and no specific platform was requested \u001b[33m\u001b[1m\u001b[0m\u001b[34m0.0s \u001b[0m\n",
      "\u001b[?25h\u001b[1A\u001b[1A\u001b[1A\u001b[1A\u001b[1A\u001b[1A\u001b[0G\u001b[?25l[+] Running 4/5\n",
      " \u001b[32m✔\u001b[0m Network milvus                                                                                                                                            \u001b[32mCreated\u001b[0m\u001b[34m0.0s \u001b[0m\n",
      " \u001b[32m✔\u001b[0m Container milvus-etcd                                                                                                                                     \u001b[32mStarted\u001b[0m\u001b[34m0.3s \u001b[0m\n",
      " \u001b[32m✔\u001b[0m Container milvus-minio                                                                                                                                    \u001b[32mStarted\u001b[0m\u001b[34m0.4s \u001b[0m\n",
      " ⠿ Container milvus-standalone                                                                                                                               Starting\u001b[34m0.7s \u001b[0m\n",
      " \u001b[33m\u001b[1m!\u001b[0m standalone The requested image's platform (linux/amd64) does not match the detected host platform (linux/arm64/v8) and no specific platform was requested \u001b[33m\u001b[1m\u001b[0m\u001b[34m0.0s \u001b[0m\n",
      "\u001b[?25h\u001b[1A\u001b[1A\u001b[1A\u001b[1A\u001b[1A\u001b[1A\u001b[0G\u001b[?25l\u001b[34m[+] Running 5/5\u001b[0m\n",
      " \u001b[32m✔\u001b[0m Network milvus                                                                                                                                            \u001b[32mCreated\u001b[0m\u001b[34m0.0s \u001b[0m\n",
      " \u001b[32m✔\u001b[0m Container milvus-etcd                                                                                                                                     \u001b[32mStarted\u001b[0m\u001b[34m0.3s \u001b[0m\n",
      " \u001b[32m✔\u001b[0m Container milvus-minio                                                                                                                                    \u001b[32mStarted\u001b[0m\u001b[34m0.4s \u001b[0m\n",
      " \u001b[32m✔\u001b[0m Container milvus-standalone                                                                                                                               \u001b[32mStarted\u001b[0m\u001b[34m0.7s \u001b[0m\n",
      " \u001b[33m\u001b[1m!\u001b[0m standalone The requested image's platform (linux/amd64) does not match the detected host platform (linux/arm64/v8) and no specific platform was requested \u001b[33m\u001b[1m\u001b[0m\u001b[34m0.0s \u001b[0m\n",
      "\u001b[?25hhuggingface/tokenizers: The current process just got forked, after parallelism has already been used. Disabling parallelism to avoid deadlocks...\n",
      "To disable this warning, you can either:\n",
      "\t- Avoid using `tokenizers` before the fork if possible\n",
      "\t- Explicitly set the environment variable TOKENIZERS_PARALLELISM=(true | false)\n",
      "6d53e98ca33aa3cce5e93b42c6760c6b3ea6429ec3c07d0f0b97944b9fc23079\n"
     ]
    }
   ],
   "source": [
    "!docker-compose -f docker-images/docker-compose-milvus.yml up -d\n",
    "!docker run --rm --name postgres0 -d  -p 5438:5432 -e POSTGRES_HOST_AUTH_METHOD=trust postgres"
   ]
  },
  {
   "cell_type": "markdown",
   "metadata": {},
   "source": [
    "## Check to see that postgres is started\n",
    "This step checks that postgres started and has no issues. The commented out `sleep 30` is only used if startup of the Milvus server is too slow."
   ]
  },
  {
   "cell_type": "code",
   "execution_count": 23,
   "metadata": {
    "collapsed": true,
    "jupyter": {
     "outputs_hidden": true
    }
   },
   "outputs": [
    {
     "name": "stdout",
     "output_type": "stream",
     "text": [
      "huggingface/tokenizers: The current process just got forked, after parallelism has already been used. Disabling parallelism to avoid deadlocks...\n",
      "To disable this warning, you can either:\n",
      "\t- Avoid using `tokenizers` before the fork if possible\n",
      "\t- Explicitly set the environment variable TOKENIZERS_PARALLELISM=(true | false)\n",
      "2023-06-05 17:57:07.492 UTC [1] LOG:  starting PostgreSQL 15.3 (Debian 15.3-1.pgdg110+1) on aarch64-unknown-linux-gnu, compiled by gcc (Debian 10.2.1-6) 10.2.1 20210110, 64-bit\n",
      "2023-06-05 17:57:07.492 UTC [1] LOG:  listening on IPv4 address \"0.0.0.0\", port 5432\n",
      "2023-06-05 17:57:07.492 UTC [1] LOG:  listening on IPv6 address \"::\", port 5432\n",
      "2023-06-05 17:57:07.493 UTC [1] LOG:  listening on Unix socket \"/var/run/postgresql/.s.PGSQL.5432\"\n",
      "2023-06-05 17:57:07.496 UTC [63] LOG:  database system was shut down at 2023-06-05 17:57:07 UTC\n",
      "2023-06-05 17:57:07.500 UTC [1] LOG:  database system is ready to accept connections\n"
     ]
    }
   ],
   "source": [
    "!docker logs postgres0 --tail 6\n",
    "#!sleep 30"
   ]
  },
  {
   "cell_type": "markdown",
   "metadata": {},
   "source": [
    "## Connections to Milvus and Postgresql\n",
    "In this code block. we are connecting to the Milvus server and Postgresql. A cursor is created for Postgres so that we can perform operations against the database"
   ]
  },
  {
   "cell_type": "code",
   "execution_count": 24,
   "metadata": {
    "collapsed": true,
    "jupyter": {
     "outputs_hidden": true
    }
   },
   "outputs": [
    {
     "name": "stderr",
     "output_type": "stream",
     "text": [
      "\u001b[93m[__internal_register] retry:4, cost: 0.27s, reason: <_InactiveRpcError: StatusCode.UNAVAILABLE, internal: Milvus Proxy is not ready yet. please wait>\u001b[0m\n",
      "\u001b[93m[__internal_register] retry:5, cost: 0.81s, reason: <_InactiveRpcError: StatusCode.UNAVAILABLE, internal: Milvus Proxy is not ready yet. please wait>\u001b[0m\n",
      "\u001b[93m[__internal_register] retry:6, cost: 2.43s, reason: <_InactiveRpcError: StatusCode.UNAVAILABLE, internal: Milvus Proxy is not ready yet. please wait>\u001b[0m\n",
      "\u001b[93m[__internal_register] retry:7, cost: 7.29s, reason: <_InactiveRpcError: StatusCode.UNAVAILABLE, internal: Milvus Proxy is not ready yet. please wait>\u001b[0m\n",
      "\u001b[93m[__internal_register] retry:8, cost: 21.87s, reason: <_InactiveRpcError: StatusCode.UNAVAILABLE, internal: Milvus Proxy is not ready yet. please wait>\u001b[0m\n"
     ]
    }
   ],
   "source": [
    "from pymilvus import connections\n",
    "import psycopg2\n",
    "connections.connect(host='localhost', port='19530')\n",
    "conn = psycopg2.connect(host='localhost', port='5438', user='postgres', password='postgres')\n",
    "cursor = conn.cursor()"
   ]
  },
  {
   "cell_type": "markdown",
   "metadata": {},
   "source": [
    "## Creating the Collection\n",
    "\n",
    "The next step is to create a collection, which requires declaring the name of the collection and the dimension of the vector."
   ]
  },
  {
   "cell_type": "code",
   "execution_count": 25,
   "metadata": {
    "collapsed": true,
    "jupyter": {
     "outputs_hidden": true
    }
   },
   "outputs": [],
   "source": [
    "TABLE_NAME = \"text_collection\"\n",
    "FIELD_NAME = \"example_field\"\n",
    "\n",
    "from pymilvus import Collection, CollectionSchema, FieldSchema, DataType\n",
    "\n",
    "pk = FieldSchema(name=\"id\", dtype=DataType.INT64, is_primary=True, auto_id=True)\n",
    "\n",
    "field = FieldSchema(name=FIELD_NAME, dtype=DataType.FLOAT_VECTOR, dim=768)\n",
    "schema = CollectionSchema(fields=[pk,field], description=\"example collection\")\n",
    "\n",
    "collection = Collection(name=TABLE_NAME, schema=schema)"
   ]
  },
  {
   "cell_type": "markdown",
   "metadata": {},
   "source": [
    "## Setting an index\n",
    "\n",
    "After creating the collection we want to assign it an index type. This can be done before or after inserting the data. When done before, indexes will be made as data comes in and fills the data segments. In this example we are using IVF_SQ8. If GPU and CPU resources are a constraint, you may want to consider IVF_FLAT **[here](https://milvus.io/docs/index.md)**."
   ]
  },
  {
   "cell_type": "code",
   "execution_count": 28,
   "metadata": {
    "collapsed": true,
    "jupyter": {
     "outputs_hidden": true
    }
   },
   "outputs": [
    {
     "data": {
      "text/plain": [
       "Status(code=0, message=)"
      ]
     },
     "execution_count": 28,
     "metadata": {},
     "output_type": "execute_result"
    }
   ],
   "source": [
    "index_type = 'IVF_SQ8' #if GPU and CPU are not an issue, use IVF_SQ8\n",
    "\n",
    "index_param = {\n",
    "        \"metric_type\":\"L2\",\n",
    "        \"index_type\":f\"{index_type}\",\n",
    "        \"params\":{\"nlist\":1024}\n",
    "    }\n",
    "\n",
    "collection.create_index(field_name=FIELD_NAME, index_params=index_param)"
   ]
  },
  {
   "cell_type": "markdown",
   "metadata": {},
   "source": [
    "# Creating Table in Postgres\n",
    "\n",
    "PostgresSQL will be used to store Milvus ID and its corresponding headline and abstract."
   ]
  },
  {
   "cell_type": "code",
   "execution_count": 29,
   "metadata": {
    "collapsed": true,
    "jupyter": {
     "outputs_hidden": true
    }
   },
   "outputs": [
    {
     "name": "stdout",
     "output_type": "stream",
     "text": [
      "create postgres table successfully!\n"
     ]
    }
   ],
   "source": [
    "#Deleting previouslny stored table for clean run\n",
    "drop_table = f\"DROP TABLE IF EXISTS {TABLE_NAME}\"\n",
    "cursor.execute(drop_table)\n",
    "conn.commit()\n",
    "\n",
    "try:\n",
    "    sql = f\"CREATE TABLE if not exists {TABLE_NAME} (ids bigint, title text, text text);\"\n",
    "    cursor.execute(sql)\n",
    "    conn.commit()\n",
    "    print(\"create postgres table successfully!\")\n",
    "except Exception as e:\n",
    "    print(\"can't create a postgres table: \", e)"
   ]
  },
  {
   "cell_type": "markdown",
   "metadata": {},
   "source": [
    "## Generating Embeddings\n",
    "\n",
    "In this example we are using the sentence_transformer library to encode the sentence into vectors. This library uses a modified BERT model to generate the embeddings, and in this example we are using a model pretrained using Microsoft mpnet. More information can be found **[here](https://www.sbert.net/docs/pretrained_models.html)**.\n",
    "<p>\n",
    "Note: there are two other raw JSON files included with this demo (Small and Medium). If you have limited compute resources, you may want to consider using one of these files instead."
   ]
  },
  {
   "cell_type": "code",
   "execution_count": 31,
   "metadata": {
    "collapsed": true,
    "jupyter": {
     "outputs_hidden": true
    }
   },
   "outputs": [
    {
     "data": {
      "application/vnd.jupyter.widget-view+json": {
       "model_id": "d9d62add187f44f487e89554a4aaf4c6",
       "version_major": 2,
       "version_minor": 0
      },
      "text/plain": [
       "Downloading (…)a8e1d/.gitattributes:   0%|          | 0.00/1.18k [00:00<?, ?B/s]"
      ]
     },
     "metadata": {},
     "output_type": "display_data"
    },
    {
     "data": {
      "application/vnd.jupyter.widget-view+json": {
       "model_id": "56829ea74ce54e5fa387095f2c4a3886",
       "version_major": 2,
       "version_minor": 0
      },
      "text/plain": [
       "Downloading (…)_Pooling/config.json:   0%|          | 0.00/190 [00:00<?, ?B/s]"
      ]
     },
     "metadata": {},
     "output_type": "display_data"
    },
    {
     "data": {
      "application/vnd.jupyter.widget-view+json": {
       "model_id": "c8eec00ebc744fcf92c319a7598da8b1",
       "version_major": 2,
       "version_minor": 0
      },
      "text/plain": [
       "Downloading (…)b20bca8e1d/README.md:   0%|          | 0.00/10.6k [00:00<?, ?B/s]"
      ]
     },
     "metadata": {},
     "output_type": "display_data"
    },
    {
     "data": {
      "application/vnd.jupyter.widget-view+json": {
       "model_id": "6b96a5c34afb4060bd18adf95f4abcc5",
       "version_major": 2,
       "version_minor": 0
      },
      "text/plain": [
       "Downloading (…)0bca8e1d/config.json:   0%|          | 0.00/571 [00:00<?, ?B/s]"
      ]
     },
     "metadata": {},
     "output_type": "display_data"
    },
    {
     "data": {
      "application/vnd.jupyter.widget-view+json": {
       "model_id": "f07b8cab5c274ead905a9655f868c310",
       "version_major": 2,
       "version_minor": 0
      },
      "text/plain": [
       "Downloading (…)ce_transformers.json:   0%|          | 0.00/116 [00:00<?, ?B/s]"
      ]
     },
     "metadata": {},
     "output_type": "display_data"
    },
    {
     "data": {
      "application/vnd.jupyter.widget-view+json": {
       "model_id": "a6d19ddbb5754f5e8a370c486a9a8578",
       "version_major": 2,
       "version_minor": 0
      },
      "text/plain": [
       "Downloading (…)e1d/data_config.json:   0%|          | 0.00/39.3k [00:00<?, ?B/s]"
      ]
     },
     "metadata": {},
     "output_type": "display_data"
    },
    {
     "data": {
      "application/vnd.jupyter.widget-view+json": {
       "model_id": "f447c399c6ee411fac8a02fa1d754c17",
       "version_major": 2,
       "version_minor": 0
      },
      "text/plain": [
       "Downloading pytorch_model.bin:   0%|          | 0.00/438M [00:00<?, ?B/s]"
      ]
     },
     "metadata": {},
     "output_type": "display_data"
    },
    {
     "data": {
      "application/vnd.jupyter.widget-view+json": {
       "model_id": "d0b711fe4bf7457d826560609beb8256",
       "version_major": 2,
       "version_minor": 0
      },
      "text/plain": [
       "Downloading (…)nce_bert_config.json:   0%|          | 0.00/53.0 [00:00<?, ?B/s]"
      ]
     },
     "metadata": {},
     "output_type": "display_data"
    },
    {
     "data": {
      "application/vnd.jupyter.widget-view+json": {
       "model_id": "51d7d0900f2b43aeacf78e8a96d0e40e",
       "version_major": 2,
       "version_minor": 0
      },
      "text/plain": [
       "Downloading (…)cial_tokens_map.json:   0%|          | 0.00/239 [00:00<?, ?B/s]"
      ]
     },
     "metadata": {},
     "output_type": "display_data"
    },
    {
     "data": {
      "application/vnd.jupyter.widget-view+json": {
       "model_id": "dc18d96ca0b843b0a95d4df876aeda1f",
       "version_major": 2,
       "version_minor": 0
      },
      "text/plain": [
       "Downloading (…)a8e1d/tokenizer.json:   0%|          | 0.00/466k [00:00<?, ?B/s]"
      ]
     },
     "metadata": {},
     "output_type": "display_data"
    },
    {
     "data": {
      "application/vnd.jupyter.widget-view+json": {
       "model_id": "87e10d89b27f4a29a9b3bb81ae964955",
       "version_major": 2,
       "version_minor": 0
      },
      "text/plain": [
       "Downloading (…)okenizer_config.json:   0%|          | 0.00/363 [00:00<?, ?B/s]"
      ]
     },
     "metadata": {},
     "output_type": "display_data"
    },
    {
     "data": {
      "application/vnd.jupyter.widget-view+json": {
       "model_id": "ad33d4fe40434602b3acb12ceae08d85",
       "version_major": 2,
       "version_minor": 0
      },
      "text/plain": [
       "Downloading (…)8e1d/train_script.py:   0%|          | 0.00/13.1k [00:00<?, ?B/s]"
      ]
     },
     "metadata": {},
     "output_type": "display_data"
    },
    {
     "data": {
      "application/vnd.jupyter.widget-view+json": {
       "model_id": "4afef300b7184131a5a615bddb233191",
       "version_major": 2,
       "version_minor": 0
      },
      "text/plain": [
       "Downloading (…)b20bca8e1d/vocab.txt:   0%|          | 0.00/232k [00:00<?, ?B/s]"
      ]
     },
     "metadata": {},
     "output_type": "display_data"
    },
    {
     "data": {
      "application/vnd.jupyter.widget-view+json": {
       "model_id": "616f7cd9b36b499181317b843e880856",
       "version_major": 2,
       "version_minor": 0
      },
      "text/plain": [
       "Downloading (…)bca8e1d/modules.json:   0%|          | 0.00/349 [00:00<?, ?B/s]"
      ]
     },
     "metadata": {},
     "output_type": "display_data"
    },
    {
     "data": {
      "application/vnd.jupyter.widget-view+json": {
       "model_id": "08387e07c5dc4fe68e802b83419550d1",
       "version_major": 2,
       "version_minor": 0
      },
      "text/plain": [
       "Batches:   0%|          | 0/6548 [00:00<?, ?it/s]"
      ]
     },
     "metadata": {},
     "output_type": "display_data"
    },
    {
     "name": "stdout",
     "output_type": "stream",
     "text": [
      "<class 'numpy.ndarray'>\n"
     ]
    }
   ],
   "source": [
    "from sentence_transformers import SentenceTransformer\n",
    "import numpy as np\n",
    "import pandas as pd\n",
    "from sklearn.preprocessing import normalize\n",
    "\n",
    "#model = SentenceTransformer('paraphrase-mpnet-base-v2')\n",
    "model = SentenceTransformer('all-mpnet-base-v2')\n",
    "\n",
    "articles_json_file = 'news-data/News_Category_Dataset_v3.json'\n",
    "\n",
    "# Get article data\n",
    "data = pd.read_json(articles_json_file, lines=True)\n",
    "data = data.replace('\\n',' ', regex=True)\n",
    "data = data.replace('\\\\|', ' ', regex=True)\n",
    "                                  \n",
    "title_data = data['headline'].str.strip().tolist()\n",
    "text_data = data['short_description'].str.strip().tolist()\n",
    "\n",
    "sentence_embeddings = model.encode(title_data, batch_size=32)\n",
    "sentence_embeddings = normalize(sentence_embeddings)\n",
    "print(type(sentence_embeddings))"
   ]
  },
  {
   "cell_type": "markdown",
   "metadata": {},
   "source": [
    "## Inserting embedding vectors into Milvus\n",
    "In this step we are inserting the embeddings generated in the previous step into Milvus. I am splitting the array of embeddings into 10 separate entities so that the server does not reject the inserts."
   ]
  },
  {
   "cell_type": "code",
   "execution_count": 32,
   "metadata": {
    "collapsed": true,
    "jupyter": {
     "outputs_hidden": true
    }
   },
   "outputs": [],
   "source": [
    "import numpy as np\n",
    "\n",
    "em = list(sentence_embeddings)\n",
    "emb_array = np.array(em)\n",
    "emb_splits = np.array_split(emb_array, 10)\n",
    "\n",
    "ids = list()\n",
    "\n",
    "for emb_split in emb_splits:\n",
    "    mr_tmp = collection.insert([emb_split.tolist()])\n",
    "    ids.extend(mr_tmp.primary_keys)"
   ]
  },
  {
   "cell_type": "markdown",
   "metadata": {},
   "source": [
    "## Inserting text information into Postgres\n",
    "In this step the id, headline, and abstract are loaded into Postgres so that we can join found articles in Milvus to its text representations."
   ]
  },
  {
   "cell_type": "code",
   "execution_count": 33,
   "metadata": {
    "collapsed": true,
    "jupyter": {
     "outputs_hidden": true
    }
   },
   "outputs": [
    {
     "name": "stdout",
     "output_type": "stream",
     "text": [
      "Inserted into Postgress Sucessfully!\n"
     ]
    }
   ],
   "source": [
    "import os\n",
    "\n",
    "def record_temp_csv(fname, ids, title, text):\n",
    "    with open(fname,'w') as f:\n",
    "        for i in range(len(ids)):\n",
    "            line = str(ids[i]) + \"|\" + title[i] + \"|\" + text[i] + \"\\n\"\n",
    "            f.write(line)\n",
    "\n",
    "def copy_data_to_pg(table_name, fname, conn, cur):\n",
    "    fname = os.path.join(os.getcwd(),fname)\n",
    "    try:\n",
    "        sql = f\"COPY {table_name} FROM STDIN (QUOTE E'\\u0007', FORMAT 'csv', DELIMITER '|')\"\n",
    "        cursor.copy_expert(sql, open(fname, \"r\"))\n",
    "        conn.commit()\n",
    "        print(\"Inserted into Postgress Sucessfully!\")\n",
    "    except Exception as e:\n",
    "        print(\"Copy Data into Postgress failed: \", e)\n",
    "        \n",
    "DATA_WITH_IDS = 'news-data/temp-to-load.csv'   \n",
    "\n",
    "record_temp_csv(DATA_WITH_IDS, ids, title_data, text_data)\n",
    "copy_data_to_pg(TABLE_NAME, DATA_WITH_IDS, conn, cursor)"
   ]
  },
  {
   "cell_type": "markdown",
   "metadata": {},
   "source": [
    "## Processing Query\n",
    "When searching for headlines, we first put the text for which we are interested through the same model to generate an embedding. Then with that embedding vector we can search for similar embeddings in Milvus."
   ]
  },
  {
   "cell_type": "code",
   "execution_count": 34,
   "metadata": {
    "collapsed": true,
    "jupyter": {
     "outputs_hidden": true
    }
   },
   "outputs": [
    {
     "data": {
      "application/vnd.jupyter.widget-view+json": {
       "model_id": "4b98df9664604ce3969e297ce49a8897",
       "version_major": 2,
       "version_minor": 0
      },
      "text/plain": [
       "Batches:   0%|          | 0/1 [00:00<?, ?it/s]"
      ]
     },
     "metadata": {},
     "output_type": "display_data"
    }
   ],
   "source": [
    "search_params = {\"metric_type\": \"L2\", \"params\": {\"nprobe\": 10}}\n",
    "\n",
    "query_vec = []\n",
    "\n",
    "title = 'War in Ukraine'\n",
    "\n",
    "query_embeddings = []\n",
    "embed = model.encode(title)\n",
    "embed = embed.reshape(1,-1)\n",
    "embed = normalize(embed)\n",
    "query_embeddings = embed.tolist()\n",
    "\n",
    "collection.load()\n",
    "results = collection.search(query_embeddings, FIELD_NAME, param=search_params, limit=20, expr=None)"
   ]
  },
  {
   "cell_type": "markdown",
   "metadata": {},
   "source": [
    "## Getting similar headlines.\n",
    "\n",
    "There may not have titles that are similar to the given one. The distance can be set to a certain threshold to filter out non-relevant matches.. We then use the result ID's to pull out the similar titles from the Postgres server and print them with their corresponding similarity score."
   ]
  },
  {
   "cell_type": "code",
   "execution_count": 36,
   "metadata": {
    "tags": []
   },
   "outputs": [
    {
     "name": "stdout",
     "output_type": "stream",
     "text": [
      "Here are the closest article matches: \n",
      "('A Time of Vigilance in the Ukraine', 0.5156738758087158)\n",
      "('Ukraine War: Shelling and Hunger Killing Civilians', 0.5218479633331299)\n",
      "('Russo-Ukrainian War Now a Reality', 0.533121645450592)\n",
      "('Why Peace In Ukraine Must Be Seen To Be Believed', 0.5344517827033997)\n",
      "('Ukraine: 9,000 Of Its Troops Killed Since Russia Began War', 0.5466265678405762)\n",
      "('Ukraine: Why There Is Hope', 0.5467580556869507)\n",
      "('The Many Paradoxes of the Ukraine Crisis', 0.5543750524520874)\n",
      "('Ukraine Crisis Hitting Russia Where It Hurts', 0.5629241466522217)\n",
      "('Ukraine: Strategic Considerations', 0.5637472867965698)\n",
      "('Stop the Violence in Kiev', 0.5673375129699707)\n",
      "(\"Ukraine's Uncertain Future\", 0.5690397024154663)\n",
      "('Syria v Ukraine', 0.580638587474823)\n",
      "(\"WATCH LIVE: The Ukraine Crisis -- What's Next For Europe?\", 0.5845084190368652)\n",
      "('Some 150,000 Ukrainians Flee Largest European Ground War Since WWII', 0.6055887341499329)\n",
      "('Zelenskyy: Russian Offensive In Eastern Ukraine Has Begun', 0.6174942851066589)\n",
      "('Elections in Ukraine', 0.628150463104248)\n",
      "('Syria and the Ukraine -- A Contrast?', 0.6307971477508545)\n",
      "('No End In Sight For Ukraine War As Putin Hails Victory Day', 0.6459673643112183)\n",
      "(\"#UnitedforUkraine: Supporting Ukraine's Future\", 0.6474683880805969)\n",
      "('Russian Military Slog In Ukraine A ‘Dreadful Mess’ For Putin', 0.6516380310058594)\n"
     ]
    }
   ],
   "source": [
    "similar_titles = []\n",
    "\n",
    "print(\"Here are the closest article matches: \")\n",
    "\n",
    "for result in results[0]:\n",
    "    sql = f\"select title from {TABLE_NAME} where ids = \" + str(result.id) + \";\"\n",
    "    cursor.execute(sql)\n",
    "    rows=cursor.fetchall()\n",
    "    if len(rows):\n",
    "        if rows[0][0]:\n",
    "            similar_titles.append((rows[0][0], result.distance))\n",
    "            print((rows[0][0], result.distance))\n",
    "\n"
   ]
  },
  {
   "cell_type": "markdown",
   "metadata": {},
   "source": [
    "## Cleanup of docker images\n",
    "\n",
    "This optional step allows the notebook to clean up docker resources when the L_END_DOCKER flag is set to 1\n"
   ]
  },
  {
   "cell_type": "code",
   "execution_count": 20,
   "metadata": {
    "tags": []
   },
   "outputs": [
    {
     "name": "stdout",
     "output_type": "stream",
     "text": [
      "huggingface/tokenizers: The current process just got forked, after parallelism has already been used. Disabling parallelism to avoid deadlocks...\n",
      "To disable this warning, you can either:\n",
      "\t- Avoid using `tokenizers` before the fork if possible\n",
      "\t- Explicitly set the environment variable TOKENIZERS_PARALLELISM=(true | false)\n"
     ]
    },
    {
     "name": "stderr",
     "output_type": "stream",
     "text": [
      " Container milvus-standalone  Stopping\n",
      " Container milvus-standalone  Stopped\n",
      " Container milvus-standalone  Removing\n",
      " Container milvus-standalone  Removed\n",
      " Container milvus-minio  Stopping\n",
      " Container milvus-etcd  Stopping\n",
      " Container milvus-etcd  Stopped\n",
      " Container milvus-etcd  Removing\n",
      " Container milvus-etcd  Removed\n",
      " Container milvus-minio  Stopped\n",
      " Container milvus-minio  Removing\n",
      " Container milvus-minio  Removed\n",
      " Network milvus  Removing\n",
      " Network milvus  Removed\n"
     ]
    },
    {
     "name": "stdout",
     "output_type": "stream",
     "text": [
      "postgres0\n"
     ]
    }
   ],
   "source": [
    "%%bash\n",
    "L_END_DOCKER=1\n",
    "\n",
    "if [[ ${L_END_DOCKER} -eq 1 ]]; then\n",
    "    docker-compose -f docker-images/docker-compose-milvus.yml down --remove-orphans\n",
    "    docker stop postgres0\n",
    "fi"
   ]
  },
  {
   "cell_type": "markdown",
   "metadata": {},
   "source": [
    "### Articles cited (For data purposes)\n",
    "\n",
    "1. Misra, Rishabh. \"News Category Dataset.\" arXiv preprint arXiv:2209.11429 (2022).\n",
    "2. Misra, Rishabh and Jigyasa Grover. \"Sculpting Data for ML: The first act of Machine Learning.\" ISBN 9798585463570 (2021)."
   ]
  }
 ],
 "metadata": {
  "kernelspec": {
   "display_name": "Python 3 (ipykernel)",
   "language": "python",
   "name": "python3"
  },
  "language_info": {
   "codemirror_mode": {
    "name": "ipython",
    "version": 3
   },
   "file_extension": ".py",
   "mimetype": "text/x-python",
   "name": "python",
   "nbconvert_exporter": "python",
   "pygments_lexer": "ipython3",
   "version": "3.10.11"
  }
 },
 "nbformat": 4,
 "nbformat_minor": 4
}
