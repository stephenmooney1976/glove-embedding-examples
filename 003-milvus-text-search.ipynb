{
 "cells": [
  {
   "cell_type": "markdown",
   "metadata": {},
   "source": [
    "# Text Search Engine\n",
    "\n",
    "This notebook demonstrates code to build a Text Search Engine. This example uses a BERT model to convert text to embedding vectors stored in Milvus (milvus.io), a vector database. Postgres is then used to store text information about articles and is used to join back the human-readable version of results found by Milvus.\n",
    "\n",
    "## Data\n",
    "\n",
    "This example uses a kaggle dataset of news articles obtained externally (see reference below). This data is in JSON format and contains many other data points that could be used for search capabilities. For this example, we are using only the headline of the article for searching capabilities.\n",
    "<p>\n",
    "The dataset is quite large, and thus has been divided up into three separate files that can be used for embeddings (Small, Medium, and the entire dataset. Depending on available compute resources, you may decide to use one of the smaller files.\n",
    "    \n",
    "## Requirements\n",
    "    \n",
    "A requirements.txt file has been provided (002-requirements.txt). Here are the packages used for this example:\n",
    "    \n",
    "| Package               |\n",
    "|-----------------------|\n",
    "| pymilvus              |\n",
    "| flask-cors            |\n",
    "| numpy                 |\n",
    "| flask                 |\n",
    "| flask_restful         |\n",
    "| psycopg2-binary       |\n",
    "| sentence_transformers |\n"
   ]
  },
  {
   "cell_type": "markdown",
   "metadata": {},
   "source": [
    "## Installing necessary software\n",
    "\n",
    "All required python packages are included in this requirements.txt file."
   ]
  },
  {
   "cell_type": "code",
   "execution_count": 1,
   "metadata": {},
   "outputs": [
    {
     "name": "stdout",
     "output_type": "stream",
     "text": [
      "Requirement already satisfied: pymilvus in /Users/spm1976/anaconda3/lib/python3.10/site-packages (from -r 002-requirements.txt (line 1)) (2.2.9)\n",
      "Requirement already satisfied: flask-cors in /Users/spm1976/anaconda3/lib/python3.10/site-packages (from -r 002-requirements.txt (line 2)) (3.0.10)\n",
      "Requirement already satisfied: numpy in /Users/spm1976/anaconda3/lib/python3.10/site-packages (from -r 002-requirements.txt (line 3)) (1.25.0)\n",
      "Requirement already satisfied: flask in /Users/spm1976/anaconda3/lib/python3.10/site-packages (from -r 002-requirements.txt (line 4)) (2.2.3)\n",
      "Requirement already satisfied: flask_restful in /Users/spm1976/anaconda3/lib/python3.10/site-packages (from -r 002-requirements.txt (line 5)) (0.3.10)\n",
      "Requirement already satisfied: psycopg2-binary in /Users/spm1976/anaconda3/lib/python3.10/site-packages (from -r 002-requirements.txt (line 6)) (2.9.6)\n",
      "Requirement already satisfied: sentence_transformers in /Users/spm1976/anaconda3/lib/python3.10/site-packages (from -r 002-requirements.txt (line 7)) (2.2.2)\n",
      "Collecting grpcio<=1.53.0,>=1.49.1 (from pymilvus->-r 002-requirements.txt (line 1))\n",
      "  Downloading grpcio-1.53.0-cp310-cp310-macosx_12_0_universal2.whl (8.4 MB)\n",
      "\u001b[2K     \u001b[90m━━━━━━━━━━━━━━━━━━━━━━━━━━━━━━━━━━━━━━━━\u001b[0m \u001b[32m8.4/8.4 MB\u001b[0m \u001b[31m17.6 MB/s\u001b[0m eta \u001b[36m0:00:00\u001b[0m00:01\u001b[0m00:01\u001b[0m\n",
      "\u001b[?25hCollecting protobuf>=3.20.0 (from pymilvus->-r 002-requirements.txt (line 1))\n",
      "  Downloading protobuf-4.23.3-cp37-abi3-macosx_10_9_universal2.whl (400 kB)\n",
      "\u001b[2K     \u001b[90m━━━━━━━━━━━━━━━━━━━━━━━━━━━━━━━━━━━━━━\u001b[0m \u001b[32m400.3/400.3 kB\u001b[0m \u001b[31m28.9 MB/s\u001b[0m eta \u001b[36m0:00:00\u001b[0m\n",
      "\u001b[?25hRequirement already satisfied: environs<=9.5.0 in /Users/spm1976/anaconda3/lib/python3.10/site-packages (from pymilvus->-r 002-requirements.txt (line 1)) (9.5.0)\n",
      "Requirement already satisfied: ujson>=2.0.0 in /Users/spm1976/anaconda3/lib/python3.10/site-packages (from pymilvus->-r 002-requirements.txt (line 1)) (5.4.0)\n",
      "Requirement already satisfied: pandas>=1.2.4 in /Users/spm1976/anaconda3/lib/python3.10/site-packages (from pymilvus->-r 002-requirements.txt (line 1)) (2.0.1)\n",
      "Requirement already satisfied: Six in /Users/spm1976/anaconda3/lib/python3.10/site-packages (from flask-cors->-r 002-requirements.txt (line 2)) (1.16.0)\n",
      "Requirement already satisfied: Werkzeug>=2.2.2 in /Users/spm1976/anaconda3/lib/python3.10/site-packages (from flask->-r 002-requirements.txt (line 4)) (2.2.3)\n",
      "Requirement already satisfied: Jinja2>=3.0 in /Users/spm1976/anaconda3/lib/python3.10/site-packages (from flask->-r 002-requirements.txt (line 4)) (3.1.2)\n",
      "Requirement already satisfied: itsdangerous>=2.0 in /Users/spm1976/anaconda3/lib/python3.10/site-packages (from flask->-r 002-requirements.txt (line 4)) (2.1.2)\n",
      "Requirement already satisfied: click>=8.0 in /Users/spm1976/anaconda3/lib/python3.10/site-packages (from flask->-r 002-requirements.txt (line 4)) (8.1.3)\n",
      "Requirement already satisfied: aniso8601>=0.82 in /Users/spm1976/anaconda3/lib/python3.10/site-packages (from flask_restful->-r 002-requirements.txt (line 5)) (9.0.1)\n",
      "Requirement already satisfied: pytz in /Users/spm1976/anaconda3/lib/python3.10/site-packages (from flask_restful->-r 002-requirements.txt (line 5)) (2023.3)\n",
      "Requirement already satisfied: transformers<5.0.0,>=4.6.0 in /Users/spm1976/anaconda3/lib/python3.10/site-packages (from sentence_transformers->-r 002-requirements.txt (line 7)) (4.28.1)\n",
      "Requirement already satisfied: tqdm in /Users/spm1976/anaconda3/lib/python3.10/site-packages (from sentence_transformers->-r 002-requirements.txt (line 7)) (4.65.0)\n",
      "Requirement already satisfied: torch>=1.6.0 in /Users/spm1976/anaconda3/lib/python3.10/site-packages (from sentence_transformers->-r 002-requirements.txt (line 7)) (2.0.1)\n",
      "Requirement already satisfied: torchvision in /Users/spm1976/anaconda3/lib/python3.10/site-packages (from sentence_transformers->-r 002-requirements.txt (line 7)) (0.15.2)\n",
      "Requirement already satisfied: scikit-learn in /Users/spm1976/anaconda3/lib/python3.10/site-packages (from sentence_transformers->-r 002-requirements.txt (line 7)) (1.2.2)\n",
      "Requirement already satisfied: scipy in /Users/spm1976/anaconda3/lib/python3.10/site-packages (from sentence_transformers->-r 002-requirements.txt (line 7)) (1.11.0)\n",
      "Requirement already satisfied: nltk in /Users/spm1976/anaconda3/lib/python3.10/site-packages (from sentence_transformers->-r 002-requirements.txt (line 7)) (3.8.1)\n",
      "Requirement already satisfied: sentencepiece in /Users/spm1976/anaconda3/lib/python3.10/site-packages (from sentence_transformers->-r 002-requirements.txt (line 7)) (0.1.99)\n",
      "Requirement already satisfied: huggingface-hub>=0.4.0 in /Users/spm1976/anaconda3/lib/python3.10/site-packages (from sentence_transformers->-r 002-requirements.txt (line 7)) (0.14.1)\n",
      "Requirement already satisfied: marshmallow>=3.0.0 in /Users/spm1976/anaconda3/lib/python3.10/site-packages (from environs<=9.5.0->pymilvus->-r 002-requirements.txt (line 1)) (3.19.0)\n",
      "Requirement already satisfied: python-dotenv in /Users/spm1976/anaconda3/lib/python3.10/site-packages (from environs<=9.5.0->pymilvus->-r 002-requirements.txt (line 1)) (0.21.0)\n",
      "Requirement already satisfied: filelock in /Users/spm1976/anaconda3/lib/python3.10/site-packages (from huggingface-hub>=0.4.0->sentence_transformers->-r 002-requirements.txt (line 7)) (3.12.0)\n",
      "Requirement already satisfied: fsspec in /Users/spm1976/anaconda3/lib/python3.10/site-packages (from huggingface-hub>=0.4.0->sentence_transformers->-r 002-requirements.txt (line 7)) (2023.5.0)\n",
      "Requirement already satisfied: requests in /Users/spm1976/anaconda3/lib/python3.10/site-packages (from huggingface-hub>=0.4.0->sentence_transformers->-r 002-requirements.txt (line 7)) (2.28.1)\n",
      "Requirement already satisfied: pyyaml>=5.1 in /Users/spm1976/anaconda3/lib/python3.10/site-packages (from huggingface-hub>=0.4.0->sentence_transformers->-r 002-requirements.txt (line 7)) (6.0)\n",
      "Requirement already satisfied: typing-extensions>=3.7.4.3 in /Users/spm1976/anaconda3/lib/python3.10/site-packages (from huggingface-hub>=0.4.0->sentence_transformers->-r 002-requirements.txt (line 7)) (4.5.0)\n",
      "Requirement already satisfied: packaging>=20.9 in /Users/spm1976/anaconda3/lib/python3.10/site-packages (from huggingface-hub>=0.4.0->sentence_transformers->-r 002-requirements.txt (line 7)) (23.1)\n",
      "Requirement already satisfied: MarkupSafe>=2.0 in /Users/spm1976/anaconda3/lib/python3.10/site-packages (from Jinja2>=3.0->flask->-r 002-requirements.txt (line 4)) (2.1.2)\n",
      "Requirement already satisfied: python-dateutil>=2.8.2 in /Users/spm1976/anaconda3/lib/python3.10/site-packages (from pandas>=1.2.4->pymilvus->-r 002-requirements.txt (line 1)) (2.8.2)\n",
      "Requirement already satisfied: tzdata>=2022.1 in /Users/spm1976/anaconda3/lib/python3.10/site-packages (from pandas>=1.2.4->pymilvus->-r 002-requirements.txt (line 1)) (2023.3)\n",
      "Requirement already satisfied: sympy in /Users/spm1976/anaconda3/lib/python3.10/site-packages (from torch>=1.6.0->sentence_transformers->-r 002-requirements.txt (line 7)) (1.11.1)\n",
      "Requirement already satisfied: networkx in /Users/spm1976/anaconda3/lib/python3.10/site-packages (from torch>=1.6.0->sentence_transformers->-r 002-requirements.txt (line 7)) (3.1)\n",
      "Requirement already satisfied: regex!=2019.12.17 in /Users/spm1976/anaconda3/lib/python3.10/site-packages (from transformers<5.0.0,>=4.6.0->sentence_transformers->-r 002-requirements.txt (line 7)) (2023.5.5)\n",
      "Requirement already satisfied: tokenizers!=0.11.3,<0.14,>=0.11.1 in /Users/spm1976/anaconda3/lib/python3.10/site-packages (from transformers<5.0.0,>=4.6.0->sentence_transformers->-r 002-requirements.txt (line 7)) (0.13.3)\n",
      "Requirement already satisfied: joblib in /Users/spm1976/anaconda3/lib/python3.10/site-packages (from nltk->sentence_transformers->-r 002-requirements.txt (line 7)) (1.2.0)\n",
      "Requirement already satisfied: threadpoolctl>=2.0.0 in /Users/spm1976/anaconda3/lib/python3.10/site-packages (from scikit-learn->sentence_transformers->-r 002-requirements.txt (line 7)) (3.1.0)\n",
      "Requirement already satisfied: pillow!=8.3.*,>=5.3.0 in /Users/spm1976/anaconda3/lib/python3.10/site-packages (from torchvision->sentence_transformers->-r 002-requirements.txt (line 7)) (9.2.0)\n",
      "Requirement already satisfied: charset-normalizer<3,>=2 in /Users/spm1976/anaconda3/lib/python3.10/site-packages (from requests->huggingface-hub>=0.4.0->sentence_transformers->-r 002-requirements.txt (line 7)) (2.1.1)\n",
      "Requirement already satisfied: idna<4,>=2.5 in /Users/spm1976/anaconda3/lib/python3.10/site-packages (from requests->huggingface-hub>=0.4.0->sentence_transformers->-r 002-requirements.txt (line 7)) (3.4)\n",
      "Requirement already satisfied: urllib3<1.27,>=1.21.1 in /Users/spm1976/anaconda3/lib/python3.10/site-packages (from requests->huggingface-hub>=0.4.0->sentence_transformers->-r 002-requirements.txt (line 7)) (1.26.12)\n",
      "Requirement already satisfied: certifi>=2017.4.17 in /Users/spm1976/anaconda3/lib/python3.10/site-packages (from requests->huggingface-hub>=0.4.0->sentence_transformers->-r 002-requirements.txt (line 7)) (2022.9.24)\n",
      "Requirement already satisfied: mpmath>=0.19 in /Users/spm1976/anaconda3/lib/python3.10/site-packages (from sympy->torch>=1.6.0->sentence_transformers->-r 002-requirements.txt (line 7)) (1.3.0)\n",
      "Installing collected packages: protobuf, grpcio\n",
      "  Attempting uninstall: protobuf\n",
      "    Found existing installation: protobuf 3.19.5\n",
      "    Uninstalling protobuf-3.19.5:\n",
      "      Successfully uninstalled protobuf-3.19.5\n",
      "  Attempting uninstall: grpcio\n",
      "    Found existing installation: grpcio 1.56.0\n",
      "    Uninstalling grpcio-1.56.0:\n",
      "      Successfully uninstalled grpcio-1.56.0\n",
      "\u001b[31mERROR: pip's dependency resolver does not currently take into account all the packages that are installed. This behaviour is the source of the following dependency conflicts.\n",
      "grpcio-tools 1.48.1 requires protobuf<4.0dev,>=3.12.0, but you have protobuf 4.23.3 which is incompatible.\n",
      "stability-sdk 0.2.6 requires grpcio==1.48.1, but you have grpcio 1.53.0 which is incompatible.\n",
      "stability-sdk 0.2.6 requires protobuf==3.19.5, but you have protobuf 4.23.3 which is incompatible.\n",
      "tensorflow-macos 2.12.0 requires numpy<1.24,>=1.22, but you have numpy 1.25.0 which is incompatible.\u001b[0m\u001b[31m\n",
      "\u001b[0mSuccessfully installed grpcio-1.53.0 protobuf-4.23.3\n",
      "Note: you may need to restart the kernel to use updated packages.\n"
     ]
    }
   ],
   "source": [
    "%pip install -r 002-requirements.txt"
   ]
  },
  {
   "cell_type": "markdown",
   "metadata": {},
   "source": [
    "## Starting the Milvus server and Postgres\n",
    "\n",
    "This demo uses Milvus. Please refer to the Install Milvus guide to learn how to use this docker container. The milvus standard docker-compose.yml has been modified for this example to use appropriate packages.\n",
    "\n",
    "Note: Milvus is not compiled for Apple Silicon at this point. For optimal performance, such as in index creation, use Linux as a host system.\n",
    "\n",
    "Also to note: if you want to speed up embedding encodings, use a CUDA enabled PyTorch installation.\n",
    "\n",
    "Part of this demo uses Postgres for saving text information. This is also started in this step (docker postgres:latest)."
   ]
  },
  {
   "cell_type": "code",
   "execution_count": 2,
   "metadata": {},
   "outputs": [
    {
     "name": "stdout",
     "output_type": "stream",
     "text": [
      "\u001b[1A\u001b[1B\u001b[0G\u001b[?25l[+] Building 0.0s (0/0)                                                         \n",
      "\u001b[?25h\u001b[1A\u001b[1B\u001b[0G\u001b[?25l[+] Running 3/0\n",
      " \u001b[32m✔\u001b[0m Network milvus               \u001b[32mCreated\u001b[0m                                    \u001b[34m0.0s \u001b[0m\n",
      " \u001b[32m✔\u001b[0m Container milvus-minio       \u001b[32mCreated\u001b[0m                                    \u001b[34m0.0s \u001b[0m\n",
      " \u001b[32m✔\u001b[0m Container milvus-etcd        \u001b[32mCreated\u001b[0m                                    \u001b[34m0.0s \u001b[0m\n",
      " ⠋ Container milvus-standalone  Creating                                   \u001b[34m0.0s \u001b[0m\n",
      "\u001b[?25h\u001b[1A\u001b[1A\u001b[1A\u001b[1A\u001b[1A\u001b[0G\u001b[?25l[+] Running 3/4\n",
      " \u001b[32m✔\u001b[0m Network milvus                                                                                                                                            \u001b[32mCreated\u001b[0m\u001b[34m0.0s \u001b[0m\n",
      " ⠿ Container milvus-minio                                                                                                                                    Starting\u001b[34m0.2s \u001b[0m\n",
      " ⠿ Container milvus-etcd                                                                                                                                     Starting\u001b[34m0.2s \u001b[0m\n",
      " \u001b[32m✔\u001b[0m Container milvus-standalone                                                                                                                               \u001b[32mCreated\u001b[0m\u001b[34m0.0s \u001b[0m\n",
      " \u001b[33m\u001b[1m!\u001b[0m standalone The requested image's platform (linux/amd64) does not match the detected host platform (linux/arm64/v8) and no specific platform was requested \u001b[33m\u001b[1m\u001b[0m\u001b[34m0.0s \u001b[0m\n",
      "\u001b[?25h\u001b[1A\u001b[1A\u001b[1A\u001b[1A\u001b[1A\u001b[1A\u001b[0G\u001b[?25l[+] Running 3/5\n",
      " \u001b[32m✔\u001b[0m Network milvus                                                                                                                                            \u001b[32mCreated\u001b[0m\u001b[34m0.0s \u001b[0m\n",
      " ⠿ Container milvus-minio                                                                                                                                    Starting\u001b[34m0.3s \u001b[0m\n",
      " ⠿ Container milvus-etcd                                                                                                                                     Starting\u001b[34m0.3s \u001b[0m\n",
      " \u001b[32m✔\u001b[0m Container milvus-standalone                                                                                                                               \u001b[32mCreated\u001b[0m\u001b[34m0.0s \u001b[0m\n",
      " \u001b[33m\u001b[1m!\u001b[0m standalone The requested image's platform (linux/amd64) does not match the detected host platform (linux/arm64/v8) and no specific platform was requested \u001b[33m\u001b[1m\u001b[0m\u001b[34m0.0s \u001b[0m\n",
      "\u001b[?25h\u001b[1A\u001b[1A\u001b[1A\u001b[1A\u001b[1A\u001b[1A\u001b[0G\u001b[?25l[+] Running 4/5\n",
      " \u001b[32m✔\u001b[0m Network milvus                                                                                                                                            \u001b[32mCreated\u001b[0m\u001b[34m0.0s \u001b[0m\n",
      " ⠿ Container milvus-minio                                                                                                                                    Starting\u001b[34m0.4s \u001b[0m\n",
      " \u001b[32m✔\u001b[0m Container milvus-etcd                                                                                                                                     \u001b[32mStarted\u001b[0m\u001b[34m0.3s \u001b[0m\n",
      " \u001b[32m✔\u001b[0m Container milvus-standalone                                                                                                                               \u001b[32mCreated\u001b[0m\u001b[34m0.0s \u001b[0m\n",
      " \u001b[33m\u001b[1m!\u001b[0m standalone The requested image's platform (linux/amd64) does not match the detected host platform (linux/arm64/v8) and no specific platform was requested \u001b[33m\u001b[1m\u001b[0m\u001b[34m0.0s \u001b[0m\n",
      "\u001b[?25h\u001b[1A\u001b[1A\u001b[1A\u001b[1A\u001b[1A\u001b[1A\u001b[0G\u001b[?25l[+] Running 4/5\n",
      " \u001b[32m✔\u001b[0m Network milvus                                                                                                                                            \u001b[32mCreated\u001b[0m\u001b[34m0.0s \u001b[0m\n",
      " \u001b[32m✔\u001b[0m Container milvus-minio                                                                                                                                    \u001b[32mStarted\u001b[0m\u001b[34m0.4s \u001b[0m\n",
      " \u001b[32m✔\u001b[0m Container milvus-etcd                                                                                                                                     \u001b[32mStarted\u001b[0m\u001b[34m0.3s \u001b[0m\n",
      " ⠿ Container milvus-standalone                                                                                                                               Starting\u001b[34m0.4s \u001b[0m\n",
      " \u001b[33m\u001b[1m!\u001b[0m standalone The requested image's platform (linux/amd64) does not match the detected host platform (linux/arm64/v8) and no specific platform was requested \u001b[33m\u001b[1m\u001b[0m\u001b[34m0.0s \u001b[0m\n",
      "\u001b[?25h\u001b[1A\u001b[1A\u001b[1A\u001b[1A\u001b[1A\u001b[1A\u001b[0G\u001b[?25l\u001b[34m[+] Running 5/5\u001b[0m\n",
      " \u001b[32m✔\u001b[0m Network milvus                                                                                                                                            \u001b[32mCreated\u001b[0m\u001b[34m0.0s \u001b[0m\n",
      " \u001b[32m✔\u001b[0m Container milvus-minio                                                                                                                                    \u001b[32mStarted\u001b[0m\u001b[34m0.4s \u001b[0m\n",
      " \u001b[32m✔\u001b[0m Container milvus-etcd                                                                                                                                     \u001b[32mStarted\u001b[0m\u001b[34m0.3s \u001b[0m\n",
      " \u001b[32m✔\u001b[0m Container milvus-standalone                                                                                                                               \u001b[32mStarted\u001b[0m\u001b[34m0.5s \u001b[0m\n",
      " \u001b[33m\u001b[1m!\u001b[0m standalone The requested image's platform (linux/amd64) does not match the detected host platform (linux/arm64/v8) and no specific platform was requested \u001b[33m\u001b[1m\u001b[0m\u001b[34m0.0s \u001b[0m\n",
      "\u001b[?25h01779014058c27b9c503c9794fe555bb24867aabf9f3bffe92c79b3498a36b86\n"
     ]
    }
   ],
   "source": [
    "!docker-compose -f docker-images/docker-compose-milvus.yml up -d\n",
    "!docker run --rm --name postgres0 -d  -p 5438:5432 -e POSTGRES_HOST_AUTH_METHOD=trust postgres"
   ]
  },
  {
   "cell_type": "markdown",
   "metadata": {},
   "source": [
    "## Check to see that postgres is started\n",
    "This step checks that postgres started and has no issues. The commented out `sleep 30` is only used if startup of the Milvus server is too slow."
   ]
  },
  {
   "cell_type": "code",
   "execution_count": 3,
   "metadata": {},
   "outputs": [
    {
     "name": "stdout",
     "output_type": "stream",
     "text": [
      "\n",
      "Data page checksums are disabled.\n",
      "\n",
      "fixing permissions on existing directory /var/lib/postgresql/data ... ok\n",
      "creating subdirectories ... ok\n",
      "selecting dynamic shared memory implementation ... posix\n"
     ]
    }
   ],
   "source": [
    "%%bash\n",
    "\n",
    "docker logs postgres0 --tail 6\n",
    "\n",
    "sleep 30"
   ]
  },
  {
   "cell_type": "markdown",
   "metadata": {},
   "source": [
    "## Connections to Milvus and Postgresql\n",
    "In this code block. we are connecting to the Milvus server and Postgresql. A cursor is created for Postgres so that we can perform operations against the database"
   ]
  },
  {
   "cell_type": "code",
   "execution_count": 4,
   "metadata": {},
   "outputs": [],
   "source": [
    "from pymilvus import connections\n",
    "import psycopg2\n",
    "connections.connect(host='localhost', port='19530')\n",
    "conn = psycopg2.connect(host='localhost', port='5438', user='postgres', password='postgres')\n",
    "cursor = conn.cursor()"
   ]
  },
  {
   "cell_type": "markdown",
   "metadata": {},
   "source": [
    "## Creating the Collection\n",
    "\n",
    "The next step is to create a collection, which requires declaring the name of the collection and the dimension of the vector."
   ]
  },
  {
   "cell_type": "code",
   "execution_count": 5,
   "metadata": {},
   "outputs": [],
   "source": [
    "TABLE_NAME = \"text_collection\"\n",
    "FIELD_NAME = \"example_field\"\n",
    "\n",
    "from pymilvus import Collection, CollectionSchema, FieldSchema, DataType\n",
    "\n",
    "pk = FieldSchema(name=\"id\", dtype=DataType.INT64, is_primary=True, auto_id=True)\n",
    "\n",
    "field = FieldSchema(name=FIELD_NAME, dtype=DataType.FLOAT_VECTOR, dim=768)\n",
    "schema = CollectionSchema(fields=[pk,field], description=\"example collection\")\n",
    "\n",
    "collection = Collection(name=TABLE_NAME, schema=schema)"
   ]
  },
  {
   "cell_type": "markdown",
   "metadata": {},
   "source": [
    "## Setting an index\n",
    "\n",
    "After creating the collection we want to assign it an index type. This can be done before or after inserting the data. When done before, indexes will be made as data comes in and fills the data segments. In this example we are using IVF_SQ8. If GPU and CPU resources are a constraint, you may want to consider IVF_FLAT **[here](https://milvus.io/docs/index.md)**."
   ]
  },
  {
   "cell_type": "code",
   "execution_count": 6,
   "metadata": {},
   "outputs": [],
   "source": [
    "index_type = 'IVF_SQ8' #if GPU and CPU are not an issue, use IVF_SQ8\n",
    "\n",
    "index_param = {\n",
    "        \"metric_type\":\"L2\",\n",
    "        \"index_type\":f\"{index_type}\",\n",
    "        \"params\":{\"nlist\":1024}\n",
    "    }\n",
    "\n",
    "#collection.create_index(field_name=FIELD_NAME, index_params=index_param)"
   ]
  },
  {
   "cell_type": "markdown",
   "metadata": {},
   "source": [
    "# Creating Table in Postgres\n",
    "\n",
    "PostgresSQL will be used to store Milvus ID and its corresponding headline and abstract."
   ]
  },
  {
   "cell_type": "code",
   "execution_count": 7,
   "metadata": {},
   "outputs": [
    {
     "name": "stdout",
     "output_type": "stream",
     "text": [
      "create postgres table successfully!\n"
     ]
    }
   ],
   "source": [
    "#Deleting previouslny stored table for clean run\n",
    "drop_table = f\"DROP TABLE IF EXISTS {TABLE_NAME}\"\n",
    "cursor.execute(drop_table)\n",
    "conn.commit()\n",
    "\n",
    "try:\n",
    "    sql = f\"CREATE TABLE if not exists {TABLE_NAME} (ids bigint, title text, text text);\"\n",
    "    cursor.execute(sql)\n",
    "    conn.commit()\n",
    "    print(\"create postgres table successfully!\")\n",
    "except Exception as e:\n",
    "    print(\"can't create a postgres table: \", e)"
   ]
  },
  {
   "cell_type": "markdown",
   "metadata": {},
   "source": [
    "## Generating Embeddings\n",
    "\n",
    "In this example we are using the sentence_transformer library to encode the sentence into vectors. This library uses a modified BERT model to generate the embeddings, and in this example we are using a model pretrained using Microsoft mpnet. More information can be found **[here](https://www.sbert.net/docs/pretrained_models.html)**.\n",
    "<p>\n",
    "Note: there are two other raw JSON files included with this demo (Small and Medium). If you have limited compute resources, you may want to consider using one of these files instead."
   ]
  },
  {
   "cell_type": "code",
   "execution_count": 8,
   "metadata": {},
   "outputs": [
    {
     "data": {
      "application/vnd.jupyter.widget-view+json": {
       "model_id": "92e8b83ffb8d48b99440c9ddfca4fbd9",
       "version_major": 2,
       "version_minor": 0
      },
      "text/plain": [
       "Batches:   0%|          | 0/6548 [00:00<?, ?it/s]"
      ]
     },
     "metadata": {},
     "output_type": "display_data"
    }
   ],
   "source": [
    "from sentence_transformers import SentenceTransformer\n",
    "import numpy as np\n",
    "import pandas as pd\n",
    "from sklearn.preprocessing import normalize\n",
    "\n",
    "#model = SentenceTransformer('paraphrase-mpnet-base-v2')\n",
    "model = SentenceTransformer('all-mpnet-base-v2')\n",
    "\n",
    "articles_json_file = 'news-data/News_Category_Dataset_v3.json'\n",
    "\n",
    "# Get article data\n",
    "data = pd.read_json(articles_json_file, lines=True)\n",
    "data = data.replace('\\n',' ', regex=True)\n",
    "data = data.replace('\\\\|', ' ', regex=True)\n",
    "                                  \n",
    "title_data = data['headline'].str.strip().tolist()\n",
    "text_data = data['short_description'].str.strip().tolist()\n",
    "\n",
    "sentence_embeddings = model.encode(title_data, batch_size=32)\n",
    "sentence_embeddings = normalize(sentence_embeddings)"
   ]
  },
  {
   "cell_type": "markdown",
   "metadata": {},
   "source": [
    "## Inserting embedding vectors into Milvus\n",
    "In this step we are inserting the embeddings generated in the previous step into Milvus. I am splitting the array of embeddings into 10 separate entities so that the server does not reject the inserts."
   ]
  },
  {
   "cell_type": "code",
   "execution_count": 9,
   "metadata": {},
   "outputs": [],
   "source": [
    "import numpy as np\n",
    "\n",
    "em = list(sentence_embeddings)\n",
    "emb_array = np.array(em)\n",
    "emb_splits = np.array_split(emb_array, 10)\n",
    "\n",
    "ids = list()\n",
    "\n",
    "for emb_split in emb_splits:\n",
    "    mr_tmp = collection.insert([emb_split.tolist()])\n",
    "    ids.extend(mr_tmp.primary_keys)"
   ]
  },
  {
   "cell_type": "markdown",
   "metadata": {},
   "source": [
    "## Inserting text information into Postgres\n",
    "In this step the id, headline, and abstract are loaded into Postgres so that we can join found articles in Milvus to its text representations."
   ]
  },
  {
   "cell_type": "code",
   "execution_count": 10,
   "metadata": {},
   "outputs": [
    {
     "name": "stdout",
     "output_type": "stream",
     "text": [
      "Inserted into Postgress Sucessfully!\n"
     ]
    }
   ],
   "source": [
    "import os\n",
    "\n",
    "def record_temp_csv(fname, ids, title, text):\n",
    "    with open(fname,'w') as f:\n",
    "        for i in range(len(ids)):\n",
    "            line = str(ids[i]) + \"|\" + title[i] + \"|\" + text[i] + \"\\n\"\n",
    "            f.write(line)\n",
    "\n",
    "def copy_data_to_pg(table_name, fname, conn, cur):\n",
    "    fname = os.path.join(os.getcwd(),fname)\n",
    "    try:\n",
    "        sql = f\"COPY {table_name} FROM STDIN (QUOTE E'\\u0007', FORMAT 'csv', DELIMITER '|')\"\n",
    "        cursor.copy_expert(sql, open(fname, \"r\"))\n",
    "        conn.commit()\n",
    "        print(\"Inserted into Postgress Sucessfully!\")\n",
    "    except Exception as e:\n",
    "        print(\"Copy Data into Postgress failed: \", e)\n",
    "        \n",
    "DATA_WITH_IDS = 'news-data/temp-to-load.csv'   \n",
    "\n",
    "record_temp_csv(DATA_WITH_IDS, ids, title_data, text_data)\n",
    "copy_data_to_pg(TABLE_NAME, DATA_WITH_IDS, conn, cursor)"
   ]
  },
  {
   "cell_type": "markdown",
   "metadata": {},
   "source": [
    "## Processing Query\n",
    "When searching for headlines, we first put the text for which we are interested through the same model to generate an embedding. Then with that embedding vector we can search for similar embeddings in Milvus."
   ]
  },
  {
   "cell_type": "code",
   "execution_count": 11,
   "metadata": {},
   "outputs": [
    {
     "data": {
      "application/vnd.jupyter.widget-view+json": {
       "model_id": "923a8dcb55b344d09914ad387ffbbd95",
       "version_major": 2,
       "version_minor": 0
      },
      "text/plain": [
       "Batches:   0%|          | 0/1 [00:00<?, ?it/s]"
      ]
     },
     "metadata": {},
     "output_type": "display_data"
    }
   ],
   "source": [
    "search_params = {\"metric_type\": \"L2\", \"params\": {\"nprobe\": 10}}\n",
    "\n",
    "query_vec = []\n",
    "\n",
    "title = 'War in Ukraine'\n",
    "\n",
    "query_embeddings = []\n",
    "embed = model.encode(title)\n",
    "embed = embed.reshape(1,-1)\n",
    "embed = normalize(embed)\n",
    "query_embeddings = embed.tolist()\n",
    "\n",
    "collection.load()\n",
    "results = collection.search(query_embeddings, FIELD_NAME, param=search_params, limit=20, expr=None)"
   ]
  },
  {
   "cell_type": "markdown",
   "metadata": {},
   "source": [
    "## Getting similar headlines.\n",
    "\n",
    "There may not have titles that are similar to the given one. The distance can be set to a certain threshold to filter out non-relevant matches.. We then use the result ID's to pull out the similar titles from the Postgres server and print them with their corresponding similarity score."
   ]
  },
  {
   "cell_type": "code",
   "execution_count": 12,
   "metadata": {
    "tags": []
   },
   "outputs": [
    {
     "name": "stdout",
     "output_type": "stream",
     "text": [
      "Here are the closest article matches: \n",
      "('A Time of Vigilance in the Ukraine', 0.5156738758087158)\n",
      "('Ukraine War: Shelling and Hunger Killing Civilians', 0.5218479633331299)\n",
      "('Russo-Ukrainian War Now a Reality', 0.533121645450592)\n",
      "('Why Peace In Ukraine Must Be Seen To Be Believed', 0.5344517827033997)\n"
     ]
    }
   ],
   "source": [
    "similar_titles = []\n",
    "\n",
    "print(\"Here are the closest article matches: \")\n",
    "\n",
    "for result in results[0]:\n",
    "    sql = f\"select title from {TABLE_NAME} where ids = \" + str(result.id) + \";\"\n",
    "    cursor.execute(sql)\n",
    "    rows=cursor.fetchall()\n",
    "    if len(rows):\n",
    "        if rows[0][0]:\n",
    "            similar_titles.append((rows[0][0], result.distance))\n",
    "            print((rows[0][0], result.distance))\n",
    "\n"
   ]
  },
  {
   "cell_type": "markdown",
   "metadata": {},
   "source": [
    "## Cleanup of docker images\n",
    "\n",
    "This optional step allows the notebook to clean up docker resources when the L_END_DOCKER flag is set to 1\n"
   ]
  },
  {
   "cell_type": "code",
   "execution_count": 13,
   "metadata": {
    "tags": []
   },
   "outputs": [
    {
     "name": "stdout",
     "output_type": "stream",
     "text": [
      "huggingface/tokenizers: The current process just got forked, after parallelism has already been used. Disabling parallelism to avoid deadlocks...\n",
      "To disable this warning, you can either:\n",
      "\t- Avoid using `tokenizers` before the fork if possible\n",
      "\t- Explicitly set the environment variable TOKENIZERS_PARALLELISM=(true | false)\n"
     ]
    },
    {
     "name": "stderr",
     "output_type": "stream",
     "text": [
      " Container milvus-standalone  Stopping\n",
      " Container milvus-standalone  Stopped\n",
      " Container milvus-standalone  Removing\n",
      " Container milvus-standalone  Removed\n",
      " Container milvus-etcd  Stopping\n",
      " Container milvus-minio  Stopping\n",
      " Container milvus-etcd  Stopped\n",
      " Container milvus-etcd  Removing\n",
      " Container milvus-etcd  Removed\n",
      " Container milvus-minio  Stopped\n",
      " Container milvus-minio  Removing\n",
      " Container milvus-minio  Removed\n",
      " Network milvus  Removing\n",
      " Network milvus  Removed\n"
     ]
    },
    {
     "name": "stdout",
     "output_type": "stream",
     "text": [
      "postgres0\n"
     ]
    }
   ],
   "source": [
    "%%bash\n",
    "L_END_DOCKER=1\n",
    "\n",
    "if [[ ${L_END_DOCKER} -eq 1 ]]; then\n",
    "    docker-compose -f docker-images/docker-compose-milvus.yml down --remove-orphans\n",
    "    docker stop postgres0\n",
    "fi"
   ]
  },
  {
   "cell_type": "markdown",
   "metadata": {},
   "source": [
    "### Articles cited (For data purposes)\n",
    "\n",
    "1. Misra, Rishabh. \"News Category Dataset.\" arXiv preprint arXiv:2209.11429 (2022).\n",
    "2. Misra, Rishabh and Jigyasa Grover. \"Sculpting Data for ML: The first act of Machine Learning.\" ISBN 9798585463570 (2021)."
   ]
  }
 ],
 "metadata": {
  "kernelspec": {
   "display_name": "Python 3 (ipykernel)",
   "language": "python",
   "name": "python3"
  },
  "language_info": {
   "codemirror_mode": {
    "name": "ipython",
    "version": 3
   },
   "file_extension": ".py",
   "mimetype": "text/x-python",
   "name": "python",
   "nbconvert_exporter": "python",
   "pygments_lexer": "ipython3",
   "version": "3.10.11"
  }
 },
 "nbformat": 4,
 "nbformat_minor": 4
}
