{
 "cells": [
  {
   "cell_type": "code",
   "execution_count": 1,
   "metadata": {},
   "outputs": [
    {
     "name": "stdout",
     "output_type": "stream",
     "text": [
      "Requirement already satisfied: pymilvus in /Users/spm1976/anaconda3/lib/python3.10/site-packages (from -r 002-requirements.txt (line 1)) (2.2.9)\n",
      "Requirement already satisfied: flask-cors in /Users/spm1976/anaconda3/lib/python3.10/site-packages (from -r 002-requirements.txt (line 2)) (3.0.10)\n",
      "Requirement already satisfied: numpy in /Users/spm1976/anaconda3/lib/python3.10/site-packages (from -r 002-requirements.txt (line 3)) (1.23.5)\n",
      "Requirement already satisfied: flask in /Users/spm1976/anaconda3/lib/python3.10/site-packages (from -r 002-requirements.txt (line 4)) (2.3.2)\n",
      "Requirement already satisfied: flask_restful in /Users/spm1976/anaconda3/lib/python3.10/site-packages (from -r 002-requirements.txt (line 5)) (0.3.10)\n",
      "Requirement already satisfied: psycopg2-binary in /Users/spm1976/anaconda3/lib/python3.10/site-packages (from -r 002-requirements.txt (line 6)) (2.9.6)\n",
      "Requirement already satisfied: sentence_transformers in /Users/spm1976/anaconda3/lib/python3.10/site-packages (from -r 002-requirements.txt (line 7)) (2.2.2)\n",
      "Requirement already satisfied: grpcio<=1.53.0,>=1.49.1 in /Users/spm1976/anaconda3/lib/python3.10/site-packages (from pymilvus->-r 002-requirements.txt (line 1)) (1.53.0)\n",
      "Requirement already satisfied: pandas>=1.2.4 in /Users/spm1976/anaconda3/lib/python3.10/site-packages (from pymilvus->-r 002-requirements.txt (line 1)) (2.0.2)\n",
      "Requirement already satisfied: protobuf>=3.20.0 in /Users/spm1976/anaconda3/lib/python3.10/site-packages (from pymilvus->-r 002-requirements.txt (line 1)) (4.22.4)\n",
      "Requirement already satisfied: ujson>=2.0.0 in /Users/spm1976/anaconda3/lib/python3.10/site-packages (from pymilvus->-r 002-requirements.txt (line 1)) (5.4.0)\n",
      "Requirement already satisfied: environs<=9.5.0 in /Users/spm1976/anaconda3/lib/python3.10/site-packages (from pymilvus->-r 002-requirements.txt (line 1)) (9.5.0)\n",
      "Requirement already satisfied: Six in /Users/spm1976/anaconda3/lib/python3.10/site-packages (from flask-cors->-r 002-requirements.txt (line 2)) (1.16.0)\n",
      "Requirement already satisfied: click>=8.1.3 in /Users/spm1976/anaconda3/lib/python3.10/site-packages (from flask->-r 002-requirements.txt (line 4)) (8.1.3)\n",
      "Requirement already satisfied: Jinja2>=3.1.2 in /Users/spm1976/anaconda3/lib/python3.10/site-packages (from flask->-r 002-requirements.txt (line 4)) (3.1.2)\n",
      "Requirement already satisfied: itsdangerous>=2.1.2 in /Users/spm1976/anaconda3/lib/python3.10/site-packages (from flask->-r 002-requirements.txt (line 4)) (2.1.2)\n",
      "Requirement already satisfied: Werkzeug>=2.3.3 in /Users/spm1976/anaconda3/lib/python3.10/site-packages (from flask->-r 002-requirements.txt (line 4)) (2.3.4)\n",
      "Requirement already satisfied: blinker>=1.6.2 in /Users/spm1976/anaconda3/lib/python3.10/site-packages (from flask->-r 002-requirements.txt (line 4)) (1.6.2)\n",
      "Requirement already satisfied: pytz in /Users/spm1976/anaconda3/lib/python3.10/site-packages (from flask_restful->-r 002-requirements.txt (line 5)) (2022.7)\n",
      "Requirement already satisfied: aniso8601>=0.82 in /Users/spm1976/anaconda3/lib/python3.10/site-packages (from flask_restful->-r 002-requirements.txt (line 5)) (9.0.1)\n",
      "Requirement already satisfied: scikit-learn in /Users/spm1976/anaconda3/lib/python3.10/site-packages (from sentence_transformers->-r 002-requirements.txt (line 7)) (1.2.2)\n",
      "Requirement already satisfied: tqdm in /Users/spm1976/anaconda3/lib/python3.10/site-packages (from sentence_transformers->-r 002-requirements.txt (line 7)) (4.65.0)\n",
      "Requirement already satisfied: sentencepiece in /Users/spm1976/anaconda3/lib/python3.10/site-packages (from sentence_transformers->-r 002-requirements.txt (line 7)) (0.1.99)\n",
      "Requirement already satisfied: transformers<5.0.0,>=4.6.0 in /Users/spm1976/anaconda3/lib/python3.10/site-packages (from sentence_transformers->-r 002-requirements.txt (line 7)) (4.29.2)\n",
      "Requirement already satisfied: nltk in /Users/spm1976/anaconda3/lib/python3.10/site-packages (from sentence_transformers->-r 002-requirements.txt (line 7)) (3.8.1)\n",
      "Requirement already satisfied: torch>=1.6.0 in /Users/spm1976/anaconda3/lib/python3.10/site-packages (from sentence_transformers->-r 002-requirements.txt (line 7)) (2.0.1)\n",
      "Requirement already satisfied: huggingface-hub>=0.4.0 in /Users/spm1976/anaconda3/lib/python3.10/site-packages (from sentence_transformers->-r 002-requirements.txt (line 7)) (0.15.1)\n",
      "Requirement already satisfied: scipy in /Users/spm1976/anaconda3/lib/python3.10/site-packages (from sentence_transformers->-r 002-requirements.txt (line 7)) (1.10.1)\n",
      "Requirement already satisfied: torchvision in /Users/spm1976/anaconda3/lib/python3.10/site-packages (from sentence_transformers->-r 002-requirements.txt (line 7)) (0.15.2)\n",
      "Requirement already satisfied: marshmallow>=3.0.0 in /Users/spm1976/anaconda3/lib/python3.10/site-packages (from environs<=9.5.0->pymilvus->-r 002-requirements.txt (line 1)) (3.19.0)\n",
      "Requirement already satisfied: python-dotenv in /Users/spm1976/anaconda3/lib/python3.10/site-packages (from environs<=9.5.0->pymilvus->-r 002-requirements.txt (line 1)) (1.0.0)\n",
      "Requirement already satisfied: fsspec in /Users/spm1976/anaconda3/lib/python3.10/site-packages (from huggingface-hub>=0.4.0->sentence_transformers->-r 002-requirements.txt (line 7)) (2023.5.0)\n",
      "Requirement already satisfied: filelock in /Users/spm1976/anaconda3/lib/python3.10/site-packages (from huggingface-hub>=0.4.0->sentence_transformers->-r 002-requirements.txt (line 7)) (3.9.0)\n",
      "Requirement already satisfied: requests in /Users/spm1976/anaconda3/lib/python3.10/site-packages (from huggingface-hub>=0.4.0->sentence_transformers->-r 002-requirements.txt (line 7)) (2.29.0)\n",
      "Requirement already satisfied: pyyaml>=5.1 in /Users/spm1976/anaconda3/lib/python3.10/site-packages (from huggingface-hub>=0.4.0->sentence_transformers->-r 002-requirements.txt (line 7)) (6.0)\n",
      "Requirement already satisfied: packaging>=20.9 in /Users/spm1976/anaconda3/lib/python3.10/site-packages (from huggingface-hub>=0.4.0->sentence_transformers->-r 002-requirements.txt (line 7)) (23.0)\n",
      "Requirement already satisfied: typing-extensions>=3.7.4.3 in /Users/spm1976/anaconda3/lib/python3.10/site-packages (from huggingface-hub>=0.4.0->sentence_transformers->-r 002-requirements.txt (line 7)) (4.5.0)\n",
      "Requirement already satisfied: MarkupSafe>=2.0 in /Users/spm1976/anaconda3/lib/python3.10/site-packages (from Jinja2>=3.1.2->flask->-r 002-requirements.txt (line 4)) (2.1.1)\n",
      "Requirement already satisfied: tzdata>=2022.1 in /Users/spm1976/anaconda3/lib/python3.10/site-packages (from pandas>=1.2.4->pymilvus->-r 002-requirements.txt (line 1)) (2023.3)\n",
      "Requirement already satisfied: python-dateutil>=2.8.2 in /Users/spm1976/anaconda3/lib/python3.10/site-packages (from pandas>=1.2.4->pymilvus->-r 002-requirements.txt (line 1)) (2.8.2)\n",
      "Requirement already satisfied: sympy in /Users/spm1976/anaconda3/lib/python3.10/site-packages (from torch>=1.6.0->sentence_transformers->-r 002-requirements.txt (line 7)) (1.12)\n",
      "Requirement already satisfied: networkx in /Users/spm1976/anaconda3/lib/python3.10/site-packages (from torch>=1.6.0->sentence_transformers->-r 002-requirements.txt (line 7)) (3.1)\n",
      "Requirement already satisfied: regex!=2019.12.17 in /Users/spm1976/anaconda3/lib/python3.10/site-packages (from transformers<5.0.0,>=4.6.0->sentence_transformers->-r 002-requirements.txt (line 7)) (2023.6.3)\n",
      "Requirement already satisfied: tokenizers!=0.11.3,<0.14,>=0.11.1 in /Users/spm1976/anaconda3/lib/python3.10/site-packages (from transformers<5.0.0,>=4.6.0->sentence_transformers->-r 002-requirements.txt (line 7)) (0.13.3)\n",
      "Requirement already satisfied: joblib in /Users/spm1976/anaconda3/lib/python3.10/site-packages (from nltk->sentence_transformers->-r 002-requirements.txt (line 7)) (1.2.0)\n",
      "Requirement already satisfied: threadpoolctl>=2.0.0 in /Users/spm1976/anaconda3/lib/python3.10/site-packages (from scikit-learn->sentence_transformers->-r 002-requirements.txt (line 7)) (3.1.0)\n",
      "Requirement already satisfied: pillow!=8.3.*,>=5.3.0 in /Users/spm1976/anaconda3/lib/python3.10/site-packages (from torchvision->sentence_transformers->-r 002-requirements.txt (line 7)) (9.4.0)\n",
      "Requirement already satisfied: certifi>=2017.4.17 in /Users/spm1976/anaconda3/lib/python3.10/site-packages (from requests->huggingface-hub>=0.4.0->sentence_transformers->-r 002-requirements.txt (line 7)) (2023.5.7)\n",
      "Requirement already satisfied: charset-normalizer<4,>=2 in /Users/spm1976/anaconda3/lib/python3.10/site-packages (from requests->huggingface-hub>=0.4.0->sentence_transformers->-r 002-requirements.txt (line 7)) (2.0.4)\n",
      "Requirement already satisfied: urllib3<1.27,>=1.21.1 in /Users/spm1976/anaconda3/lib/python3.10/site-packages (from requests->huggingface-hub>=0.4.0->sentence_transformers->-r 002-requirements.txt (line 7)) (1.26.15)\n",
      "Requirement already satisfied: idna<4,>=2.5 in /Users/spm1976/anaconda3/lib/python3.10/site-packages (from requests->huggingface-hub>=0.4.0->sentence_transformers->-r 002-requirements.txt (line 7)) (3.4)\n",
      "Requirement already satisfied: mpmath>=0.19 in /Users/spm1976/anaconda3/lib/python3.10/site-packages (from sympy->torch>=1.6.0->sentence_transformers->-r 002-requirements.txt (line 7)) (1.3.0)\n",
      "Note: you may need to restart the kernel to use updated packages.\n"
     ]
    }
   ],
   "source": [
    "%pip install -r 002-requirements.txt"
   ]
  },
  {
   "cell_type": "code",
   "execution_count": 2,
   "metadata": {},
   "outputs": [
    {
     "name": "stdout",
     "output_type": "stream",
     "text": [
      "\u001b[1A\u001b[1B\u001b[0G\u001b[?25l[+] Running 1/0\n",
      " \u001b[32m✔\u001b[0m Network milvus          \u001b[32mCreated\u001b[0m                                         \u001b[34m0.0s \u001b[0m\n",
      " ⠋ Container milvus-minio  Creating                                        \u001b[34m0.0s \u001b[0m\n",
      " ⠋ Container milvus-etcd   Creating                                        \u001b[34m0.0s \u001b[0m\n",
      "\u001b[?25h\u001b[1A\u001b[1A\u001b[1A\u001b[1A\u001b[0G\u001b[?25l\u001b[34m[+] Running 3/3\u001b[0m\n",
      " \u001b[32m✔\u001b[0m Network milvus                                                                                                                                            \u001b[32mCreated\u001b[0m\u001b[34m0.0s \u001b[0m\n",
      " ⠿ Container milvus-minio                                                                                                                                    Starting\u001b[34m0.1s \u001b[0m\n",
      " ⠿ Container milvus-etcd                                                                                                                                     Starting\u001b[34m0.1s \u001b[0m\n",
      " \u001b[32m✔\u001b[0m Container milvus-standalone                                                                                                                               \u001b[32mCreated\u001b[0m\u001b[34m0.0s \u001b[0m\n",
      " \u001b[33m\u001b[1m!\u001b[0m standalone The requested image's platform (linux/amd64) does not match the detected host platform (linux/arm64/v8) and no specific platform was requested \u001b[33m\u001b[1m\u001b[0m\u001b[34m0.0s \u001b[0m\n",
      "\u001b[?25h\u001b[1A\u001b[1A\u001b[1A\u001b[1A\u001b[1A\u001b[1A\u001b[0G\u001b[?25l[+] Running 3/5\n",
      " \u001b[32m✔\u001b[0m Network milvus                                                                                                                                            \u001b[32mCreated\u001b[0m\u001b[34m0.0s \u001b[0m\n",
      " ⠿ Container milvus-minio                                                                                                                                    Starting\u001b[34m0.2s \u001b[0m\n",
      " ⠿ Container milvus-etcd                                                                                                                                     Starting\u001b[34m0.2s \u001b[0m\n",
      " \u001b[32m✔\u001b[0m Container milvus-standalone                                                                                                                               \u001b[32mCreated\u001b[0m\u001b[34m0.0s \u001b[0m\n",
      " \u001b[33m\u001b[1m!\u001b[0m standalone The requested image's platform (linux/amd64) does not match the detected host platform (linux/arm64/v8) and no specific platform was requested \u001b[33m\u001b[1m\u001b[0m\u001b[34m0.0s \u001b[0m\n",
      "\u001b[?25h\u001b[1A\u001b[1A\u001b[1A\u001b[1A\u001b[1A\u001b[1A\u001b[0G\u001b[?25l[+] Running 3/5\n",
      " \u001b[32m✔\u001b[0m Network milvus                                                                                                                                            \u001b[32mCreated\u001b[0m\u001b[34m0.0s \u001b[0m\n",
      " ⠿ Container milvus-minio                                                                                                                                    Starting\u001b[34m0.3s \u001b[0m\n",
      " ⠿ Container milvus-etcd                                                                                                                                     Starting\u001b[34m0.3s \u001b[0m\n",
      " \u001b[32m✔\u001b[0m Container milvus-standalone                                                                                                                               \u001b[32mCreated\u001b[0m\u001b[34m0.0s \u001b[0m\n",
      " \u001b[33m\u001b[1m!\u001b[0m standalone The requested image's platform (linux/amd64) does not match the detected host platform (linux/arm64/v8) and no specific platform was requested \u001b[33m\u001b[1m\u001b[0m\u001b[34m0.0s \u001b[0m\n",
      "\u001b[?25h\u001b[1A\u001b[1A\u001b[1A\u001b[1A\u001b[1A\u001b[1A\u001b[0G\u001b[?25l[+] Running 3/5\n",
      " \u001b[32m✔\u001b[0m Network milvus                                                                                                                                            \u001b[32mCreated\u001b[0m\u001b[34m0.0s \u001b[0m\n",
      " ⠿ Container milvus-minio                                                                                                                                    Starting\u001b[34m0.4s \u001b[0m\n",
      " ⠿ Container milvus-etcd                                                                                                                                     Starting\u001b[34m0.4s \u001b[0m\n",
      " \u001b[32m✔\u001b[0m Container milvus-standalone                                                                                                                               \u001b[32mCreated\u001b[0m\u001b[34m0.0s \u001b[0m\n",
      " \u001b[33m\u001b[1m!\u001b[0m standalone The requested image's platform (linux/amd64) does not match the detected host platform (linux/arm64/v8) and no specific platform was requested \u001b[33m\u001b[1m\u001b[0m\u001b[34m0.0s \u001b[0m\n",
      "\u001b[?25h\u001b[1A\u001b[1A\u001b[1A\u001b[1A\u001b[1A\u001b[1A\u001b[0G\u001b[?25l[+] Running 3/5\n",
      " \u001b[32m✔\u001b[0m Network milvus                                                                                                                                            \u001b[32mCreated\u001b[0m\u001b[34m0.0s \u001b[0m\n",
      " ⠿ Container milvus-minio                                                                                                                                    Starting\u001b[34m0.5s \u001b[0m\n",
      " ⠿ Container milvus-etcd                                                                                                                                     Starting\u001b[34m0.5s \u001b[0m\n",
      " \u001b[32m✔\u001b[0m Container milvus-standalone                                                                                                                               \u001b[32mCreated\u001b[0m\u001b[34m0.0s \u001b[0m\n",
      " \u001b[33m\u001b[1m!\u001b[0m standalone The requested image's platform (linux/amd64) does not match the detected host platform (linux/arm64/v8) and no specific platform was requested \u001b[33m\u001b[1m\u001b[0m\u001b[34m0.0s \u001b[0m\n",
      "\u001b[?25h\u001b[1A\u001b[1A\u001b[1A\u001b[1A\u001b[1A\u001b[1A\u001b[0G\u001b[?25l[+] Running 4/5\n",
      " \u001b[32m✔\u001b[0m Network milvus                                                                                                                                            \u001b[32mCreated\u001b[0m\u001b[34m0.0s \u001b[0m\n",
      " \u001b[32m✔\u001b[0m Container milvus-minio                                                                                                                                    \u001b[32mStarted\u001b[0m\u001b[34m0.5s \u001b[0m\n",
      " \u001b[32m✔\u001b[0m Container milvus-etcd                                                                                                                                     \u001b[32mStarted\u001b[0m\u001b[34m0.5s \u001b[0m\n",
      " ⠿ Container milvus-standalone                                                                                                                               Starting\u001b[34m0.6s \u001b[0m\n",
      " \u001b[33m\u001b[1m!\u001b[0m standalone The requested image's platform (linux/amd64) does not match the detected host platform (linux/arm64/v8) and no specific platform was requested \u001b[33m\u001b[1m\u001b[0m\u001b[34m0.0s \u001b[0m\n",
      "\u001b[?25h\u001b[1A\u001b[1A\u001b[1A\u001b[1A\u001b[1A\u001b[1A\u001b[0G\u001b[?25l[+] Running 4/5\n",
      " \u001b[32m✔\u001b[0m Network milvus                                                                                                                                            \u001b[32mCreated\u001b[0m\u001b[34m0.0s \u001b[0m\n",
      " \u001b[32m✔\u001b[0m Container milvus-minio                                                                                                                                    \u001b[32mStarted\u001b[0m\u001b[34m0.5s \u001b[0m\n",
      " \u001b[32m✔\u001b[0m Container milvus-etcd                                                                                                                                     \u001b[32mStarted\u001b[0m\u001b[34m0.5s \u001b[0m\n",
      " ⠿ Container milvus-standalone                                                                                                                               Starting\u001b[34m0.7s \u001b[0m\n",
      " \u001b[33m\u001b[1m!\u001b[0m standalone The requested image's platform (linux/amd64) does not match the detected host platform (linux/arm64/v8) and no specific platform was requested \u001b[33m\u001b[1m\u001b[0m\u001b[34m0.0s \u001b[0m\n",
      "\u001b[?25h\u001b[1A\u001b[1A\u001b[1A\u001b[1A\u001b[1A\u001b[1A\u001b[0G\u001b[?25l[+] Running 4/5\n",
      " \u001b[32m✔\u001b[0m Network milvus                                                                                                                                            \u001b[32mCreated\u001b[0m\u001b[34m0.0s \u001b[0m\n",
      " \u001b[32m✔\u001b[0m Container milvus-minio                                                                                                                                    \u001b[32mStarted\u001b[0m\u001b[34m0.5s \u001b[0m\n",
      " \u001b[32m✔\u001b[0m Container milvus-etcd                                                                                                                                     \u001b[32mStarted\u001b[0m\u001b[34m0.5s \u001b[0m\n",
      " ⠿ Container milvus-standalone                                                                                                                               Starting\u001b[34m0.8s \u001b[0m\n",
      " \u001b[33m\u001b[1m!\u001b[0m standalone The requested image's platform (linux/amd64) does not match the detected host platform (linux/arm64/v8) and no specific platform was requested \u001b[33m\u001b[1m\u001b[0m\u001b[34m0.0s \u001b[0m\n",
      "\u001b[?25h\u001b[1A\u001b[1A\u001b[1A\u001b[1A\u001b[1A\u001b[1A\u001b[0G\u001b[?25l[+] Running 4/5\n",
      " \u001b[32m✔\u001b[0m Network milvus                                                                                                                                            \u001b[32mCreated\u001b[0m\u001b[34m0.0s \u001b[0m\n",
      " \u001b[32m✔\u001b[0m Container milvus-minio                                                                                                                                    \u001b[32mStarted\u001b[0m\u001b[34m0.5s \u001b[0m\n",
      " \u001b[32m✔\u001b[0m Container milvus-etcd                                                                                                                                     \u001b[32mStarted\u001b[0m\u001b[34m0.5s \u001b[0m\n",
      " ⠿ Container milvus-standalone                                                                                                                               Starting\u001b[34m0.9s \u001b[0m\n",
      " \u001b[33m\u001b[1m!\u001b[0m standalone The requested image's platform (linux/amd64) does not match the detected host platform (linux/arm64/v8) and no specific platform was requested \u001b[33m\u001b[1m\u001b[0m\u001b[34m0.0s \u001b[0m\n",
      "\u001b[?25h\u001b[1A\u001b[1A\u001b[1A\u001b[1A\u001b[1A\u001b[1A\u001b[0G\u001b[?25l\u001b[34m[+] Running 5/5\u001b[0m\n",
      " \u001b[32m✔\u001b[0m Network milvus                                                                                                                                            \u001b[32mCreated\u001b[0m\u001b[34m0.0s \u001b[0m\n",
      " \u001b[32m✔\u001b[0m Container milvus-minio                                                                                                                                    \u001b[32mStarted\u001b[0m\u001b[34m0.5s \u001b[0m\n",
      " \u001b[32m✔\u001b[0m Container milvus-etcd                                                                                                                                     \u001b[32mStarted\u001b[0m\u001b[34m0.5s \u001b[0m\n",
      " \u001b[32m✔\u001b[0m Container milvus-standalone                                                                                                                               \u001b[32mStarted\u001b[0m\u001b[34m0.9s \u001b[0m\n",
      " \u001b[33m\u001b[1m!\u001b[0m standalone The requested image's platform (linux/amd64) does not match the detected host platform (linux/arm64/v8) and no specific platform was requested \u001b[33m\u001b[1m\u001b[0m\u001b[34m0.0s \u001b[0m\n",
      "\u001b[?25he1294fe9d3f0bb35dda852b10416a45c154128a4703288709a4bde5126781f3f\n"
     ]
    }
   ],
   "source": [
    "!docker-compose -f docker-images/docker-compose-milvus.yml up -d\n",
    "!docker run --rm --name postgres0 -d  -p 5438:5432 -e POSTGRES_HOST_AUTH_METHOD=trust postgres"
   ]
  },
  {
   "cell_type": "code",
   "execution_count": 3,
   "metadata": {},
   "outputs": [
    {
     "name": "stdout",
     "output_type": "stream",
     "text": [
      "selecting dynamic shared memory implementation ... posix\n",
      "selecting default max_connections ... 100\n",
      "selecting default shared_buffers ... 128MB\n",
      "selecting default time zone ... Etc/UTC\n",
      "creating configuration files ... ok\n",
      "running bootstrap script ... ok\n"
     ]
    }
   ],
   "source": [
    "!docker logs postgres0 --tail 6"
   ]
  },
  {
   "cell_type": "code",
   "execution_count": 4,
   "metadata": {},
   "outputs": [],
   "source": [
    "#Connectings to Milvus, BERT and Postgresql\n",
    "from pymilvus import connections\n",
    "import psycopg2\n",
    "connections.connect(host='localhost', port='19530')\n",
    "conn = psycopg2.connect(host='localhost', port='5438', user='postgres', password='postgres')\n",
    "cursor = conn.cursor()"
   ]
  },
  {
   "cell_type": "code",
   "execution_count": 5,
   "metadata": {},
   "outputs": [],
   "source": [
    "TABLE_NAME = \"text_collection\"\n",
    "FIELD_NAME = \"example_field\"\n",
    "\n",
    "from pymilvus import Collection, CollectionSchema, FieldSchema, DataType\n",
    "\n",
    "pk = FieldSchema(name=\"id\", dtype=DataType.INT64, is_primary=True, auto_id=True)\n",
    "\n",
    "field = FieldSchema(name=FIELD_NAME, dtype=DataType.FLOAT_VECTOR, dim=768)\n",
    "schema = CollectionSchema(fields=[pk,field], description=\"example collection\")\n",
    "\n",
    "collection = Collection(name=TABLE_NAME, schema=schema)"
   ]
  },
  {
   "cell_type": "code",
   "execution_count": 8,
   "metadata": {},
   "outputs": [
    {
     "data": {
      "text/plain": [
       "Status(code=0, message=)"
      ]
     },
     "execution_count": 8,
     "metadata": {},
     "output_type": "execute_result"
    }
   ],
   "source": [
    "index_param = {\n",
    "        \"metric_type\":\"L2\",\n",
    "        \"index_type\":\"IVF_SQ8\",\n",
    "        \"params\":{\"nlist\":1024}\n",
    "    }\n",
    "\n",
    "collection.create_index(field_name=FIELD_NAME, index_params=index_param)"
   ]
  },
  {
   "cell_type": "code",
   "execution_count": 9,
   "metadata": {},
   "outputs": [
    {
     "name": "stdout",
     "output_type": "stream",
     "text": [
      "create postgres table successfully!\n"
     ]
    }
   ],
   "source": [
    "#Deleting previouslny stored table for clean run\n",
    "drop_table = \"DROP TABLE IF EXISTS \" + TABLE_NAME\n",
    "cursor.execute(drop_table)\n",
    "conn.commit()\n",
    "\n",
    "try:\n",
    "    sql = \"CREATE TABLE if not exists \" + TABLE_NAME + \" (ids bigint, title text, text text);\"\n",
    "    cursor.execute(sql)\n",
    "    conn.commit()\n",
    "    print(\"create postgres table successfully!\")\n",
    "except Exception as e:\n",
    "    print(\"can't create a postgres table: \", e)"
   ]
  },
  {
   "cell_type": "code",
   "execution_count": 19,
   "metadata": {},
   "outputs": [
    {
     "name": "stderr",
     "output_type": "stream",
     "text": [
      "Batches: 100%|██████████| 32/32 [00:09<00:00,  3.53it/s]"
     ]
    },
    {
     "name": "stdout",
     "output_type": "stream",
     "text": [
      "<class 'numpy.ndarray'>\n"
     ]
    },
    {
     "name": "stderr",
     "output_type": "stream",
     "text": [
      "\n"
     ]
    }
   ],
   "source": [
    "from sentence_transformers import SentenceTransformer\n",
    "import pandas as pd\n",
    "from sklearn.preprocessing import normalize\n",
    "\n",
    "model = SentenceTransformer('paraphrase-mpnet-base-v2')\n",
    "\n",
    "# Get article data\n",
    "data = pd.read_json('news-data/News_Category_Dataset_v3_Small.json', lines=True)\n",
    "\n",
    "title_data = data['headline'].tolist()\n",
    "text_data = data['short_description'].tolist()\n",
    "\n",
    "sentence_embeddings = model.encode(title_data)\n",
    "sentence_embeddings = normalize(sentence_embeddings)\n",
    "print(type(sentence_embeddings))"
   ]
  },
  {
   "cell_type": "code",
   "execution_count": 20,
   "metadata": {},
   "outputs": [],
   "source": [
    "em =list(sentence_embeddings)\n",
    "mr = collection.insert([em])\n",
    "ids = mr.primary_keys\n",
    "dicts ={}"
   ]
  },
  {
   "cell_type": "code",
   "execution_count": 23,
   "metadata": {},
   "outputs": [
    {
     "name": "stdout",
     "output_type": "stream",
     "text": [
      "Copy Data into Postgress failed:  current transaction is aborted, commands ignored until end of transaction block\n",
      "\n"
     ]
    }
   ],
   "source": [
    "import os\n",
    "\n",
    "\n",
    "\n",
    "def record_temp_csv(fname, ids, title, text):\n",
    "    with open(fname,'w') as f:\n",
    "        for i in range(len(ids)):\n",
    "            line = str(ids[i]) + \"|\" + title[i] + \"|\" + text[i] + \"\\n\"\n",
    "            f.write(line)\n",
    "\n",
    "def copy_data_to_pg(table_name, fname, conn, cur):\n",
    "    fname = os.path.join(os.getcwd(),fname)\n",
    "    try:\n",
    "        sql = f\"COPY {table_name} FROM STDIN (QUOTE E'\\u0007', FORMAT 'csv', DELIMITER '|')\"\n",
    "        cursor.copy_expert(sql, open(fname, \"r\"))\n",
    "        conn.commit()\n",
    "        print(\"Inserted into Postgress Sucessfully!\")\n",
    "    except Exception as e:\n",
    "        print(\"Copy Data into Postgress failed: \", e)\n",
    "        \n",
    "DATA_WITH_IDS = 'news-data/temp-to-load.csv'   \n",
    "\n",
    "record_temp_csv(DATA_WITH_IDS, ids, title_data, text_data)\n",
    "copy_data_to_pg(TABLE_NAME, DATA_WITH_IDS, conn, cursor)"
   ]
  },
  {
   "attachments": {},
   "cell_type": "markdown",
   "metadata": {},
   "source": [
    "### Cleanup of docker images"
   ]
  },
  {
   "cell_type": "code",
   "execution_count": 6,
   "metadata": {},
   "outputs": [],
   "source": [
    "%%bash\n",
    "L_END_DOCKER=0\n",
    "\n",
    "if [[ ${L_END_DOCKER} -eq 1 ]]; then\n",
    "    docker-compose -f docker-images/docker-compose-milvus.yml down --remove-orphans\n",
    "    docker stop postgres0\n",
    "fi"
   ]
  },
  {
   "attachments": {},
   "cell_type": "markdown",
   "metadata": {},
   "source": [
    "### Articles cited (For data purposes)\n",
    "\n",
    "1. Misra, Rishabh. \"News Category Dataset.\" arXiv preprint arXiv:2209.11429 (2022).\n",
    "2. Misra, Rishabh and Jigyasa Grover. \"Sculpting Data for ML: The first act of Machine Learning.\" ISBN 9798585463570 (2021)."
   ]
  },
  {
   "cell_type": "code",
   "execution_count": null,
   "metadata": {},
   "outputs": [],
   "source": []
  }
 ],
 "metadata": {
  "kernelspec": {
   "display_name": "base",
   "language": "python",
   "name": "python3"
  },
  "language_info": {
   "codemirror_mode": {
    "name": "ipython",
    "version": 3
   },
   "file_extension": ".py",
   "mimetype": "text/x-python",
   "name": "python",
   "nbconvert_exporter": "python",
   "pygments_lexer": "ipython3",
   "version": "3.10.11"
  },
  "orig_nbformat": 4
 },
 "nbformat": 4,
 "nbformat_minor": 2
}
