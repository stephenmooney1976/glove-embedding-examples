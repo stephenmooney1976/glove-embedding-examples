{
 "cells": [
  {
   "cell_type": "code",
   "execution_count": 1,
   "metadata": {},
   "outputs": [
    {
     "name": "stdout",
     "output_type": "stream",
     "text": [
      "Requirement already satisfied: pymilvus in /Users/spm1976/anaconda3/lib/python3.10/site-packages (from -r 002-requirements.txt (line 1)) (2.2.9)\n",
      "Requirement already satisfied: flask-cors in /Users/spm1976/anaconda3/lib/python3.10/site-packages (from -r 002-requirements.txt (line 2)) (3.0.10)\n",
      "Requirement already satisfied: numpy in /Users/spm1976/anaconda3/lib/python3.10/site-packages (from -r 002-requirements.txt (line 3)) (1.24.3)\n",
      "Requirement already satisfied: flask in /Users/spm1976/anaconda3/lib/python3.10/site-packages (from -r 002-requirements.txt (line 4)) (2.3.2)\n",
      "Requirement already satisfied: flask_restful in /Users/spm1976/anaconda3/lib/python3.10/site-packages (from -r 002-requirements.txt (line 5)) (0.3.10)\n",
      "Requirement already satisfied: psycopg2-binary in /Users/spm1976/anaconda3/lib/python3.10/site-packages (from -r 002-requirements.txt (line 6)) (2.9.6)\n",
      "Requirement already satisfied: sentence_transformers in /Users/spm1976/anaconda3/lib/python3.10/site-packages (from -r 002-requirements.txt (line 7)) (2.2.2)\n",
      "Requirement already satisfied: protobuf>=3.20.0 in /Users/spm1976/anaconda3/lib/python3.10/site-packages (from pymilvus->-r 002-requirements.txt (line 1)) (4.22.4)\n",
      "Requirement already satisfied: pandas>=1.2.4 in /Users/spm1976/anaconda3/lib/python3.10/site-packages (from pymilvus->-r 002-requirements.txt (line 1)) (2.0.2)\n",
      "Requirement already satisfied: ujson>=2.0.0 in /Users/spm1976/anaconda3/lib/python3.10/site-packages (from pymilvus->-r 002-requirements.txt (line 1)) (5.4.0)\n",
      "Requirement already satisfied: grpcio<=1.53.0,>=1.49.1 in /Users/spm1976/anaconda3/lib/python3.10/site-packages (from pymilvus->-r 002-requirements.txt (line 1)) (1.53.0)\n",
      "Requirement already satisfied: environs<=9.5.0 in /Users/spm1976/anaconda3/lib/python3.10/site-packages (from pymilvus->-r 002-requirements.txt (line 1)) (9.5.0)\n",
      "Requirement already satisfied: Six in /Users/spm1976/anaconda3/lib/python3.10/site-packages (from flask-cors->-r 002-requirements.txt (line 2)) (1.16.0)\n",
      "Requirement already satisfied: blinker>=1.6.2 in /Users/spm1976/anaconda3/lib/python3.10/site-packages (from flask->-r 002-requirements.txt (line 4)) (1.6.2)\n",
      "Requirement already satisfied: itsdangerous>=2.1.2 in /Users/spm1976/anaconda3/lib/python3.10/site-packages (from flask->-r 002-requirements.txt (line 4)) (2.1.2)\n",
      "Requirement already satisfied: Werkzeug>=2.3.3 in /Users/spm1976/anaconda3/lib/python3.10/site-packages (from flask->-r 002-requirements.txt (line 4)) (2.3.4)\n",
      "Requirement already satisfied: Jinja2>=3.1.2 in /Users/spm1976/anaconda3/lib/python3.10/site-packages (from flask->-r 002-requirements.txt (line 4)) (3.1.2)\n",
      "Requirement already satisfied: click>=8.1.3 in /Users/spm1976/anaconda3/lib/python3.10/site-packages (from flask->-r 002-requirements.txt (line 4)) (8.1.3)\n",
      "Requirement already satisfied: pytz in /Users/spm1976/anaconda3/lib/python3.10/site-packages (from flask_restful->-r 002-requirements.txt (line 5)) (2022.7)\n",
      "Requirement already satisfied: aniso8601>=0.82 in /Users/spm1976/anaconda3/lib/python3.10/site-packages (from flask_restful->-r 002-requirements.txt (line 5)) (9.0.1)\n",
      "Requirement already satisfied: torchvision in /Users/spm1976/anaconda3/lib/python3.10/site-packages (from sentence_transformers->-r 002-requirements.txt (line 7)) (0.15.2)\n",
      "Requirement already satisfied: torch>=1.6.0 in /Users/spm1976/anaconda3/lib/python3.10/site-packages (from sentence_transformers->-r 002-requirements.txt (line 7)) (2.0.1)\n",
      "Requirement already satisfied: sentencepiece in /Users/spm1976/anaconda3/lib/python3.10/site-packages (from sentence_transformers->-r 002-requirements.txt (line 7)) (0.1.99)\n",
      "Requirement already satisfied: nltk in /Users/spm1976/anaconda3/lib/python3.10/site-packages (from sentence_transformers->-r 002-requirements.txt (line 7)) (3.8.1)\n",
      "Requirement already satisfied: scipy in /Users/spm1976/anaconda3/lib/python3.10/site-packages (from sentence_transformers->-r 002-requirements.txt (line 7)) (1.10.1)\n",
      "Requirement already satisfied: tqdm in /Users/spm1976/anaconda3/lib/python3.10/site-packages (from sentence_transformers->-r 002-requirements.txt (line 7)) (4.65.0)\n",
      "Requirement already satisfied: huggingface-hub>=0.4.0 in /Users/spm1976/anaconda3/lib/python3.10/site-packages (from sentence_transformers->-r 002-requirements.txt (line 7)) (0.15.1)\n",
      "Requirement already satisfied: transformers<5.0.0,>=4.6.0 in /Users/spm1976/anaconda3/lib/python3.10/site-packages (from sentence_transformers->-r 002-requirements.txt (line 7)) (4.29.2)\n",
      "Requirement already satisfied: scikit-learn in /Users/spm1976/anaconda3/lib/python3.10/site-packages (from sentence_transformers->-r 002-requirements.txt (line 7)) (1.2.2)\n",
      "Requirement already satisfied: marshmallow>=3.0.0 in /Users/spm1976/anaconda3/lib/python3.10/site-packages (from environs<=9.5.0->pymilvus->-r 002-requirements.txt (line 1)) (3.19.0)\n",
      "Requirement already satisfied: python-dotenv in /Users/spm1976/anaconda3/lib/python3.10/site-packages (from environs<=9.5.0->pymilvus->-r 002-requirements.txt (line 1)) (1.0.0)\n",
      "Requirement already satisfied: pyyaml>=5.1 in /Users/spm1976/anaconda3/lib/python3.10/site-packages (from huggingface-hub>=0.4.0->sentence_transformers->-r 002-requirements.txt (line 7)) (6.0)\n",
      "Requirement already satisfied: requests in /Users/spm1976/anaconda3/lib/python3.10/site-packages (from huggingface-hub>=0.4.0->sentence_transformers->-r 002-requirements.txt (line 7)) (2.29.0)\n",
      "Requirement already satisfied: typing-extensions>=3.7.4.3 in /Users/spm1976/anaconda3/lib/python3.10/site-packages (from huggingface-hub>=0.4.0->sentence_transformers->-r 002-requirements.txt (line 7)) (4.5.0)\n",
      "Requirement already satisfied: filelock in /Users/spm1976/anaconda3/lib/python3.10/site-packages (from huggingface-hub>=0.4.0->sentence_transformers->-r 002-requirements.txt (line 7)) (3.9.0)\n",
      "Requirement already satisfied: fsspec in /Users/spm1976/anaconda3/lib/python3.10/site-packages (from huggingface-hub>=0.4.0->sentence_transformers->-r 002-requirements.txt (line 7)) (2023.5.0)\n",
      "Requirement already satisfied: packaging>=20.9 in /Users/spm1976/anaconda3/lib/python3.10/site-packages (from huggingface-hub>=0.4.0->sentence_transformers->-r 002-requirements.txt (line 7)) (23.0)\n",
      "Requirement already satisfied: MarkupSafe>=2.0 in /Users/spm1976/anaconda3/lib/python3.10/site-packages (from Jinja2>=3.1.2->flask->-r 002-requirements.txt (line 4)) (2.1.1)\n",
      "Requirement already satisfied: python-dateutil>=2.8.2 in /Users/spm1976/anaconda3/lib/python3.10/site-packages (from pandas>=1.2.4->pymilvus->-r 002-requirements.txt (line 1)) (2.8.2)\n",
      "Requirement already satisfied: tzdata>=2022.1 in /Users/spm1976/anaconda3/lib/python3.10/site-packages (from pandas>=1.2.4->pymilvus->-r 002-requirements.txt (line 1)) (2023.3)\n",
      "Requirement already satisfied: sympy in /Users/spm1976/anaconda3/lib/python3.10/site-packages (from torch>=1.6.0->sentence_transformers->-r 002-requirements.txt (line 7)) (1.12)\n",
      "Requirement already satisfied: networkx in /Users/spm1976/anaconda3/lib/python3.10/site-packages (from torch>=1.6.0->sentence_transformers->-r 002-requirements.txt (line 7)) (3.1)\n",
      "Requirement already satisfied: tokenizers!=0.11.3,<0.14,>=0.11.1 in /Users/spm1976/anaconda3/lib/python3.10/site-packages (from transformers<5.0.0,>=4.6.0->sentence_transformers->-r 002-requirements.txt (line 7)) (0.13.3)\n",
      "Requirement already satisfied: regex!=2019.12.17 in /Users/spm1976/anaconda3/lib/python3.10/site-packages (from transformers<5.0.0,>=4.6.0->sentence_transformers->-r 002-requirements.txt (line 7)) (2023.6.3)\n",
      "Requirement already satisfied: joblib in /Users/spm1976/anaconda3/lib/python3.10/site-packages (from nltk->sentence_transformers->-r 002-requirements.txt (line 7)) (1.2.0)\n",
      "Requirement already satisfied: threadpoolctl>=2.0.0 in /Users/spm1976/anaconda3/lib/python3.10/site-packages (from scikit-learn->sentence_transformers->-r 002-requirements.txt (line 7)) (3.1.0)\n",
      "Requirement already satisfied: pillow!=8.3.*,>=5.3.0 in /Users/spm1976/anaconda3/lib/python3.10/site-packages (from torchvision->sentence_transformers->-r 002-requirements.txt (line 7)) (9.4.0)\n",
      "Requirement already satisfied: urllib3<1.27,>=1.21.1 in /Users/spm1976/anaconda3/lib/python3.10/site-packages (from requests->huggingface-hub>=0.4.0->sentence_transformers->-r 002-requirements.txt (line 7)) (1.26.15)\n",
      "Requirement already satisfied: certifi>=2017.4.17 in /Users/spm1976/anaconda3/lib/python3.10/site-packages (from requests->huggingface-hub>=0.4.0->sentence_transformers->-r 002-requirements.txt (line 7)) (2023.5.7)\n",
      "Requirement already satisfied: charset-normalizer<4,>=2 in /Users/spm1976/anaconda3/lib/python3.10/site-packages (from requests->huggingface-hub>=0.4.0->sentence_transformers->-r 002-requirements.txt (line 7)) (2.0.4)\n",
      "Requirement already satisfied: idna<4,>=2.5 in /Users/spm1976/anaconda3/lib/python3.10/site-packages (from requests->huggingface-hub>=0.4.0->sentence_transformers->-r 002-requirements.txt (line 7)) (3.4)\n",
      "Requirement already satisfied: mpmath>=0.19 in /Users/spm1976/anaconda3/lib/python3.10/site-packages (from sympy->torch>=1.6.0->sentence_transformers->-r 002-requirements.txt (line 7)) (1.3.0)\n",
      "Note: you may need to restart the kernel to use updated packages.\n"
     ]
    }
   ],
   "source": [
    "%pip install -r 002-requirements.txt"
   ]
  },
  {
   "cell_type": "code",
   "execution_count": 2,
   "metadata": {},
   "outputs": [
    {
     "name": "stdout",
     "output_type": "stream",
     "text": [
      "\u001b[1A\u001b[1B\u001b[0G\u001b[?25l[+] Running 3/0\n",
      " \u001b[32m✔\u001b[0m Container milvus-minio       \u001b[32mRunning\u001b[0m                                    \u001b[34m0.0s \u001b[0m\n",
      " \u001b[32m✔\u001b[0m Container milvus-etcd        \u001b[32mRunning\u001b[0m                                    \u001b[34m0.0s \u001b[0m\n",
      " \u001b[32m✔\u001b[0m Container milvus-standalone  \u001b[32mRunning\u001b[0m                                    \u001b[34m0.0s \u001b[0m\n",
      "\u001b[?25hdocker: Error response from daemon: Conflict. The container name \"/postgres0\" is already in use by container \"f1af2dd09abf4844bf22ebfa59280b127c3cc7729e8b5b53b6937029714e9464\". You have to remove (or rename) that container to be able to reuse that name.\n",
      "See 'docker run --help'.\n"
     ]
    }
   ],
   "source": [
    "!docker-compose -f docker-images/docker-compose-milvus.yml up -d\n",
    "!docker run --rm --name postgres0 -d  -p 5438:5432 -e POSTGRES_HOST_AUTH_METHOD=trust postgres"
   ]
  },
  {
   "cell_type": "code",
   "execution_count": 3,
   "metadata": {},
   "outputs": [
    {
     "name": "stdout",
     "output_type": "stream",
     "text": [
      "2023-06-05 02:55:28.321 UTC [1] LOG:  listening on IPv6 address \"::\", port 5432\n",
      "2023-06-05 02:55:28.322 UTC [1] LOG:  listening on Unix socket \"/var/run/postgresql/.s.PGSQL.5432\"\n",
      "2023-06-05 02:55:28.325 UTC [63] LOG:  database system was shut down at 2023-06-05 02:55:28 UTC\n",
      "2023-06-05 02:55:28.329 UTC [1] LOG:  database system is ready to accept connections\n",
      "2023-06-05 03:00:28.381 UTC [61] LOG:  checkpoint starting: time\n",
      "2023-06-05 03:00:35.451 UTC [61] LOG:  checkpoint complete: wrote 72 buffers (0.4%); 0 WAL file(s) added, 0 removed, 0 recycled; write=7.057 s, sync=0.007 s, total=7.072 s; sync files=34, longest=0.001 s, average=0.001 s; distance=374 kB, estimate=374 kB\n"
     ]
    }
   ],
   "source": [
    "!docker logs postgres0 --tail 6\n",
    "#!sleep 30"
   ]
  },
  {
   "cell_type": "code",
   "execution_count": 4,
   "metadata": {},
   "outputs": [],
   "source": [
    "#Connections to Milvus, BERT and Postgresql\n",
    "from pymilvus import connections\n",
    "import psycopg2\n",
    "connections.connect(host='localhost', port='19530')\n",
    "conn = psycopg2.connect(host='localhost', port='5438', user='postgres', password='postgres')\n",
    "cursor = conn.cursor()"
   ]
  },
  {
   "cell_type": "code",
   "execution_count": 5,
   "metadata": {},
   "outputs": [],
   "source": [
    "TABLE_NAME = \"text_collection\"\n",
    "FIELD_NAME = \"example_field\"\n",
    "\n",
    "from pymilvus import Collection, CollectionSchema, FieldSchema, DataType\n",
    "\n",
    "pk = FieldSchema(name=\"id\", dtype=DataType.INT64, is_primary=True, auto_id=True)\n",
    "\n",
    "field = FieldSchema(name=FIELD_NAME, dtype=DataType.FLOAT_VECTOR, dim=768)\n",
    "schema = CollectionSchema(fields=[pk,field], description=\"example collection\")\n",
    "\n",
    "collection = Collection(name=TABLE_NAME, schema=schema)"
   ]
  },
  {
   "cell_type": "code",
   "execution_count": 6,
   "metadata": {},
   "outputs": [
    {
     "data": {
      "text/plain": [
       "Status(code=0, message=)"
      ]
     },
     "execution_count": 6,
     "metadata": {},
     "output_type": "execute_result"
    }
   ],
   "source": [
    "index_param = {\n",
    "        \"metric_type\":\"L2\",\n",
    "        \"index_type\":\"IVF_SQ8\",\n",
    "        \"params\":{\"nlist\":1024}\n",
    "    }\n",
    "\n",
    "collection.create_index(field_name=FIELD_NAME, index_params=index_param)"
   ]
  },
  {
   "cell_type": "code",
   "execution_count": 7,
   "metadata": {},
   "outputs": [
    {
     "name": "stdout",
     "output_type": "stream",
     "text": [
      "create postgres table successfully!\n"
     ]
    }
   ],
   "source": [
    "#Deleting previouslny stored table for clean run\n",
    "drop_table = f\"DROP TABLE IF EXISTS {TABLE_NAME}\"\n",
    "cursor.execute(drop_table)\n",
    "conn.commit()\n",
    "\n",
    "try:\n",
    "    sql = f\"CREATE TABLE if not exists {TABLE_NAME} (ids bigint, title text, text text);\"\n",
    "    cursor.execute(sql)\n",
    "    conn.commit()\n",
    "    print(\"create postgres table successfully!\")\n",
    "except Exception as e:\n",
    "    print(\"can't create a postgres table: \", e)"
   ]
  },
  {
   "cell_type": "code",
   "execution_count": 8,
   "metadata": {},
   "outputs": [
    {
     "data": {
      "application/vnd.jupyter.widget-view+json": {
       "model_id": "b3d0c1fbcc104331850af8e64a5e076f",
       "version_major": 2,
       "version_minor": 0
      },
      "text/plain": [
       "Downloading (…)821d1/.gitattributes:   0%|          | 0.00/391 [00:00<?, ?B/s]"
      ]
     },
     "metadata": {},
     "output_type": "display_data"
    },
    {
     "data": {
      "application/vnd.jupyter.widget-view+json": {
       "model_id": "bfe8816b7caa4dc58ee5a4ad064bb57c",
       "version_major": 2,
       "version_minor": 0
      },
      "text/plain": [
       "Downloading (…)_Pooling/config.json:   0%|          | 0.00/190 [00:00<?, ?B/s]"
      ]
     },
     "metadata": {},
     "output_type": "display_data"
    },
    {
     "data": {
      "application/vnd.jupyter.widget-view+json": {
       "model_id": "cd1adfafd6d1425592094f527d7e2f80",
       "version_major": 2,
       "version_minor": 0
      },
      "text/plain": [
       "Downloading (…)8d01e821d1/README.md:   0%|          | 0.00/3.95k [00:00<?, ?B/s]"
      ]
     },
     "metadata": {},
     "output_type": "display_data"
    },
    {
     "data": {
      "application/vnd.jupyter.widget-view+json": {
       "model_id": "dadda455707f4144a2ae2ca35fdbca7a",
       "version_major": 2,
       "version_minor": 0
      },
      "text/plain": [
       "Downloading (…)d1/added_tokens.json:   0%|          | 0.00/2.00 [00:00<?, ?B/s]"
      ]
     },
     "metadata": {},
     "output_type": "display_data"
    },
    {
     "data": {
      "application/vnd.jupyter.widget-view+json": {
       "model_id": "c25013d75ac84cc2a68b195b05a1a9bc",
       "version_major": 2,
       "version_minor": 0
      },
      "text/plain": [
       "Downloading (…)01e821d1/config.json:   0%|          | 0.00/625 [00:00<?, ?B/s]"
      ]
     },
     "metadata": {},
     "output_type": "display_data"
    },
    {
     "data": {
      "application/vnd.jupyter.widget-view+json": {
       "model_id": "ab0d5e64131e4d759b0eea1eef8c1824",
       "version_major": 2,
       "version_minor": 0
      },
      "text/plain": [
       "Downloading (…)ce_transformers.json:   0%|          | 0.00/122 [00:00<?, ?B/s]"
      ]
     },
     "metadata": {},
     "output_type": "display_data"
    },
    {
     "data": {
      "application/vnd.jupyter.widget-view+json": {
       "model_id": "0cacaceb4182457b9e489a60735c80d6",
       "version_major": 2,
       "version_minor": 0
      },
      "text/plain": [
       "Downloading pytorch_model.bin:   0%|          | 0.00/438M [00:00<?, ?B/s]"
      ]
     },
     "metadata": {},
     "output_type": "display_data"
    },
    {
     "data": {
      "application/vnd.jupyter.widget-view+json": {
       "model_id": "5bfaf7cea0af4d21998106a0c308daf1",
       "version_major": 2,
       "version_minor": 0
      },
      "text/plain": [
       "Downloading (…)nce_bert_config.json:   0%|          | 0.00/53.0 [00:00<?, ?B/s]"
      ]
     },
     "metadata": {},
     "output_type": "display_data"
    },
    {
     "data": {
      "application/vnd.jupyter.widget-view+json": {
       "model_id": "8d85d9b26db24618b62dc8f7d9fbb9bf",
       "version_major": 2,
       "version_minor": 0
      },
      "text/plain": [
       "Downloading (…)cial_tokens_map.json:   0%|          | 0.00/112 [00:00<?, ?B/s]"
      ]
     },
     "metadata": {},
     "output_type": "display_data"
    },
    {
     "data": {
      "application/vnd.jupyter.widget-view+json": {
       "model_id": "8a605705d4784a3b84653922fd21f8ed",
       "version_major": 2,
       "version_minor": 0
      },
      "text/plain": [
       "Downloading (…)821d1/tokenizer.json:   0%|          | 0.00/466k [00:00<?, ?B/s]"
      ]
     },
     "metadata": {},
     "output_type": "display_data"
    },
    {
     "data": {
      "application/vnd.jupyter.widget-view+json": {
       "model_id": "e7a05ffaec364ea4985de50fe040e649",
       "version_major": 2,
       "version_minor": 0
      },
      "text/plain": [
       "Downloading (…)okenizer_config.json:   0%|          | 0.00/399 [00:00<?, ?B/s]"
      ]
     },
     "metadata": {},
     "output_type": "display_data"
    },
    {
     "data": {
      "application/vnd.jupyter.widget-view+json": {
       "model_id": "021537f12aa645d2975d660489df95e3",
       "version_major": 2,
       "version_minor": 0
      },
      "text/plain": [
       "Downloading (…)8d01e821d1/vocab.txt:   0%|          | 0.00/232k [00:00<?, ?B/s]"
      ]
     },
     "metadata": {},
     "output_type": "display_data"
    },
    {
     "data": {
      "application/vnd.jupyter.widget-view+json": {
       "model_id": "6bf72d2dce0843ddbd376ca767ae7a0c",
       "version_major": 2,
       "version_minor": 0
      },
      "text/plain": [
       "Downloading (…)1e821d1/modules.json:   0%|          | 0.00/229 [00:00<?, ?B/s]"
      ]
     },
     "metadata": {},
     "output_type": "display_data"
    },
    {
     "data": {
      "application/vnd.jupyter.widget-view+json": {
       "model_id": "49d49d63909540ffa4fde3ad72e05669",
       "version_major": 2,
       "version_minor": 0
      },
      "text/plain": [
       "Batches:   0%|          | 0/782 [00:00<?, ?it/s]"
      ]
     },
     "metadata": {},
     "output_type": "display_data"
    },
    {
     "name": "stdout",
     "output_type": "stream",
     "text": [
      "<class 'numpy.ndarray'>\n"
     ]
    }
   ],
   "source": [
    "from sentence_transformers import SentenceTransformer\n",
    "import numpy as np\n",
    "import pandas as pd\n",
    "from sklearn.preprocessing import normalize\n",
    "\n",
    "#model = SentenceTransformer('paraphrase-mpnet-base-v2')\n",
    "model = SentenceTransformer('bert-base-nli-mean-tokens')\n",
    "\n",
    "# Get article data\n",
    "data = pd.read_json('news-data/News_Category_Dataset_v3_Medium.json', lines=True)\n",
    "data = data.replace('\\n',' ', regex=True)\n",
    "data = data.replace('\\\\|', ' ', regex=True)\n",
    "                                  \n",
    "title_data = data['headline'].str.strip().tolist()\n",
    "text_data = data['short_description'].str.strip().tolist()\n",
    "\n",
    "sentence_embeddings = model.encode(title_data, batch_size=32)\n",
    "sentence_embeddings = normalize(sentence_embeddings)\n",
    "print(type(sentence_embeddings))"
   ]
  },
  {
   "cell_type": "code",
   "execution_count": 10,
   "metadata": {},
   "outputs": [],
   "source": [
    "import numpy as np\n",
    "\n",
    "em = list(sentence_embeddings)\n",
    "emb_array = np.array(em)\n",
    "emb_splits = np.array_split(emb_array, 10)\n",
    "\n",
    "ids = list()\n",
    "\n",
    "for emb_split in emb_splits:\n",
    "    mr_tmp = collection.insert([emb_split.tolist()])\n",
    "    ids.extend(mr_tmp.primary_keys)\n",
    "    \n",
    "#em =list(sentence_embeddings)\n",
    "#mr = collection.insert([em])\n",
    "#ids = mr.primary_keys\n",
    "#dicts ={}"
   ]
  },
  {
   "cell_type": "code",
   "execution_count": 11,
   "metadata": {},
   "outputs": [
    {
     "name": "stdout",
     "output_type": "stream",
     "text": [
      "Inserted into Postgress Sucessfully!\n"
     ]
    }
   ],
   "source": [
    "import os\n",
    "\n",
    "def record_temp_csv(fname, ids, title, text):\n",
    "    with open(fname,'w') as f:\n",
    "        for i in range(len(ids)):\n",
    "            line = str(ids[i]) + \"|\" + title[i] + \"|\" + text[i] + \"\\n\"\n",
    "            f.write(line)\n",
    "\n",
    "def copy_data_to_pg(table_name, fname, conn, cur):\n",
    "    fname = os.path.join(os.getcwd(),fname)\n",
    "    try:\n",
    "        sql = f\"COPY {table_name} FROM STDIN (QUOTE E'\\u0007', FORMAT 'csv', DELIMITER '|')\"\n",
    "        cursor.copy_expert(sql, open(fname, \"r\"))\n",
    "        conn.commit()\n",
    "        print(\"Inserted into Postgress Sucessfully!\")\n",
    "    except Exception as e:\n",
    "        print(\"Copy Data into Postgress failed: \", e)\n",
    "        \n",
    "DATA_WITH_IDS = 'news-data/temp-to-load.csv'   \n",
    "\n",
    "record_temp_csv(DATA_WITH_IDS, ids, title_data, text_data)\n",
    "copy_data_to_pg(TABLE_NAME, DATA_WITH_IDS, conn, cursor)"
   ]
  },
  {
   "cell_type": "code",
   "execution_count": 12,
   "metadata": {},
   "outputs": [
    {
     "data": {
      "application/vnd.jupyter.widget-view+json": {
       "model_id": "82e8066a5bc14c4e98528361598426b7",
       "version_major": 2,
       "version_minor": 0
      },
      "text/plain": [
       "Batches:   0%|          | 0/1 [00:00<?, ?it/s]"
      ]
     },
     "metadata": {},
     "output_type": "display_data"
    }
   ],
   "source": [
    "search_params = {\"metric_type\": \"L2\", \"params\": {\"nprobe\": 10}}\n",
    "\n",
    "query_vec = []\n",
    "\n",
    "title = 'War in Ukraine'\n",
    "\n",
    "query_embeddings = []\n",
    "embed = model.encode(title)\n",
    "embed = embed.reshape(1,-1)\n",
    "embed = normalize(embed)\n",
    "query_embeddings = embed.tolist()\n",
    "\n",
    "collection.load()\n",
    "results = collection.search(query_embeddings, FIELD_NAME, param=search_params, limit=20, expr=None)"
   ]
  },
  {
   "cell_type": "code",
   "execution_count": 13,
   "metadata": {},
   "outputs": [
    {
     "name": "stdout",
     "output_type": "stream",
     "text": [
      "Here are the closest article matches: \n",
      "441957411561412503\n",
      "('Ukraine Documents Alleged Atrocities By Retreating Russians', 0.47776588797569275)\n",
      "441957411561412462\n",
      "('Russia Appoints New Ukraine War Commander With Record Of Brutality', 0.52095627784729)\n",
      "441957411561412708\n",
      "(\"Europe Braces For Refugees As Russia Attacks Ukraine's Capital\", 0.5226385593414307)\n",
      "441957411561412660\n",
      "('Mariupol Diaries: Scenes Of Despair And Resolve In The Besieged Ukrainian City', 0.5455607175827026)\n",
      "441957411561412578\n",
      "('Russian Military Slog In Ukraine A ‘Dreadful Mess’ For Putin', 0.5525690317153931)\n",
      "441957411561412715\n",
      "('Cyberattacks Accompany Russian Military Assault On Ukraine', 0.575350284576416)\n",
      "441957411561412735\n",
      "('Russia Extends Troop Drills Near Ukraine As Violence Spikes', 0.6013284921646118)\n",
      "441957411561412711\n",
      "('Ukraine Attack Leaves Baltics Wondering: Are We Next?', 0.6058027744293213)\n",
      "441957411561426694\n",
      "(\"What's Driving The Recent Carnage In Kabul\", 0.6065389513969421)\n",
      "441957411561412353\n",
      "('Ukraine Fights To Hold Off Russian Advances In South, East', 0.616901159286499)\n",
      "441957411561412323\n",
      "('Ukraine Repels Russian Attacks As Mariupol Steel Plant Battle Rages', 0.6185908317565918)\n",
      "441957411561412742\n",
      "('Ukrainian President Calls For Meeting With Putin Amid Increasing Violence', 0.6340004205703735)\n",
      "441957411561428929\n",
      "('Arming Ukraine Likely To Escalate Fruitless Conflict And Risk Needless Confrontation With Russia', 0.6402573585510254)\n",
      "441957411561424078\n",
      "('The Fog Of War In America', 0.6484497785568237)\n",
      "441957411561411601\n",
      "(\"Biden At UN To Call Russian War An Affront To Body's Charter\", 0.6551092863082886)\n",
      "441957411561412719\n",
      "('Biden, Putin Signal Bigger Confrontation Ahead Over Ukraine', 0.6642610430717468)\n",
      "441957411561411667\n",
      "(\"Russia Says It's Pulling Back Forces From Ukraine's Kharkiv Region\", 0.6676008701324463)\n",
      "441957411561412694\n",
      "('Russia Hits Ukraine Fuel Suplies, Airfields In New Attacks', 0.6684131026268005)\n",
      "441957411561433067\n",
      "('How Uzbekistan Became A Hotbed For Violent Extremism And Radicalism', 0.675347626209259)\n",
      "441957411561434012\n",
      "('From Raqqa To Marawi, Military Campaigns Against ISIS Take A Devastating Toll', 0.6825006008148193)\n"
     ]
    }
   ],
   "source": [
    "similar_titles = []\n",
    "\n",
    "#if results[0][0].distance > 0.7:\n",
    "#    print(\"There are no similar questions in the database, here are the closest matches:\")\n",
    "#else:\n",
    "#    print(\"There are similar questions in the database, here are the closest matches: \")\n",
    "    \n",
    "print(\"Here are the closest article matches: \")\n",
    "\n",
    "for result in results[0]:\n",
    "    sql = f\"select title from {TABLE_NAME} where ids = \" + str(result.id) + \";\"\n",
    "    print(result.id)\n",
    "    cursor.execute(sql)\n",
    "    rows=cursor.fetchall()\n",
    "    if len(rows):\n",
    "        if rows[0][0]:\n",
    "            similar_titles.append((rows[0][0], result.distance))\n",
    "            print((rows[0][0], result.distance))\n",
    "\n"
   ]
  },
  {
   "cell_type": "markdown",
   "metadata": {},
   "source": [
    "### Cleanup of docker images"
   ]
  },
  {
   "cell_type": "code",
   "execution_count": null,
   "metadata": {},
   "outputs": [
    {
     "name": "stdout",
     "output_type": "stream",
     "text": [
      "huggingface/tokenizers: The current process just got forked, after parallelism has already been used. Disabling parallelism to avoid deadlocks...\n",
      "To disable this warning, you can either:\n",
      "\t- Avoid using `tokenizers` before the fork if possible\n",
      "\t- Explicitly set the environment variable TOKENIZERS_PARALLELISM=(true | false)\n"
     ]
    },
    {
     "name": "stderr",
     "output_type": "stream",
     "text": [
      " Container milvus-standalone  Stopping\n"
     ]
    }
   ],
   "source": [
    "%%bash\n",
    "L_END_DOCKER=1\n",
    "\n",
    "if [[ ${L_END_DOCKER} -eq 1 ]]; then\n",
    "    docker-compose -f docker-images/docker-compose-milvus.yml down --remove-orphans\n",
    "    docker stop postgres0\n",
    "fi"
   ]
  },
  {
   "cell_type": "markdown",
   "metadata": {},
   "source": [
    "### Articles cited (For data purposes)\n",
    "\n",
    "1. Misra, Rishabh. \"News Category Dataset.\" arXiv preprint arXiv:2209.11429 (2022).\n",
    "2. Misra, Rishabh and Jigyasa Grover. \"Sculpting Data for ML: The first act of Machine Learning.\" ISBN 9798585463570 (2021)."
   ]
  },
  {
   "cell_type": "code",
   "execution_count": null,
   "metadata": {},
   "outputs": [],
   "source": []
  }
 ],
 "metadata": {
  "kernelspec": {
   "display_name": "Python 3 (ipykernel)",
   "language": "python",
   "name": "python3"
  },
  "language_info": {
   "codemirror_mode": {
    "name": "ipython",
    "version": 3
   },
   "file_extension": ".py",
   "mimetype": "text/x-python",
   "name": "python",
   "nbconvert_exporter": "python",
   "pygments_lexer": "ipython3",
   "version": "3.10.11"
  }
 },
 "nbformat": 4,
 "nbformat_minor": 4
}
