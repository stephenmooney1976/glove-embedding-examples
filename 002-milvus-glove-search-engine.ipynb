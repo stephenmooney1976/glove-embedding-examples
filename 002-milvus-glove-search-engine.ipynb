{
 "cells": [
  {
   "cell_type": "code",
   "execution_count": 1,
   "id": "93849109-0395-472e-8170-3f130d515545",
   "metadata": {},
   "outputs": [],
   "source": [
    "!pip install -q -r 002-requirements.txt"
   ]
  },
  {
   "cell_type": "code",
   "execution_count": 2,
   "id": "42fc61af-74b0-44a1-802d-a68f10b4dfcf",
   "metadata": {},
   "outputs": [
    {
     "name": "stdout",
     "output_type": "stream",
     "text": [
      "Creating network \"milvus\" with the default driver\n",
      "Creating milvus-etcd ... \n",
      "Creating milvus-minio ... \n",
      "\u001b[1BCreating milvus-standalone ... \u001b[0m\u001b[1A\u001b[2K\n",
      "\u001b[1Bting milvus-standalone ... \u001b[32mdone\u001b[0m"
     ]
    }
   ],
   "source": [
    "!docker-compose -f docker-images/docker-compose-milvus.yml up -d"
   ]
  },
  {
   "cell_type": "code",
   "execution_count": 3,
   "id": "b3d68fbc-b1af-4736-a981-d932c4eca15c",
   "metadata": {},
   "outputs": [
    {
     "name": "stdout",
     "output_type": "stream",
     "text": [
      "1250c1414f6a62d2f59b27f681d9f94cb42896bc2157e09f2c87bdd1ab34b240\n"
     ]
    }
   ],
   "source": [
    "!docker run --rm --name postgres0 -d  -p 5438:5432 -e POSTGRES_HOST_AUTH_METHOD=trust postgres\n",
    "#!docker run  --name redis -d -p 6379:6379 redis"
   ]
  },
  {
   "cell_type": "code",
   "execution_count": 4,
   "id": "7530561b-da1d-4e4a-a249-390dcb415f23",
   "metadata": {},
   "outputs": [
    {
     "name": "stderr",
     "output_type": "stream",
     "text": [
      "2023-06-04 20:23:23.211 UTC [1] LOG:  starting PostgreSQL 15.3 (Debian 15.3-1.pgdg110+1) on x86_64-pc-linux-gnu, compiled by gcc (Debian 10.2.1-6) 10.2.1 20210110, 64-bit\n",
      "2023-06-04 20:23:23.212 UTC [1] LOG:  listening on IPv4 address \"0.0.0.0\", port 5432\n",
      "2023-06-04 20:23:23.212 UTC [1] LOG:  listening on IPv6 address \"::\", port 5432\n",
      "2023-06-04 20:23:23.217 UTC [1] LOG:  listening on Unix socket \"/var/run/postgresql/.s.PGSQL.5432\"\n",
      "2023-06-04 20:23:23.224 UTC [64] LOG:  database system was shut down at 2023-06-04 20:23:23 UTC\n",
      "2023-06-04 20:23:23.229 UTC [1] LOG:  database system is ready to accept connections\n"
     ]
    }
   ],
   "source": [
    "%%bash\n",
    "\n",
    "# Give Milvus enough time to start\n",
    "sleep 30\n",
    "\n",
    "docker logs postgres0 --tail 6"
   ]
  },
  {
   "cell_type": "code",
   "execution_count": 5,
   "id": "0370eef9-326f-4d11-8821-4101526c539c",
   "metadata": {},
   "outputs": [],
   "source": [
    "#Connectings to Milvus, BERT and Postgresql\n",
    "from pymilvus import connections, utility\n",
    "import psycopg2\n",
    "import numpy as np\n",
    "\n",
    "connections.connect(host='localhost', port='19530')\n",
    "conn = psycopg2.connect(host='localhost', port='5438', user='postgres', password='postgres')\n",
    "\n",
    "cursor = conn.cursor()"
   ]
  },
  {
   "cell_type": "code",
   "execution_count": 6,
   "id": "8944dd3c-2cba-4917-987e-f8afcd7309db",
   "metadata": {},
   "outputs": [],
   "source": [
    "def get_vectors():\n",
    "    with open(\"data/glove/glove.6B.50d.txt\", 'r', encoding=\"utf-8\") as f:\n",
    "        lines = f.readlines()\n",
    "            \n",
    "    words = [line.split()[0] for line in lines]\n",
    "    embeddings = [np.asarray(line.strip().split()[1:], 'float32').tolist() for line in lines]\n",
    "\n",
    "    return words, embeddings\n",
    "\n",
    "words, embeddings = get_vectors()"
   ]
  },
  {
   "cell_type": "code",
   "execution_count": 7,
   "id": "5d814c2d-cde2-463e-a9dd-c0b04e2ae81c",
   "metadata": {},
   "outputs": [
    {
     "name": "stdout",
     "output_type": "stream",
     "text": [
      "Collection & partition are successfully created.\n"
     ]
    }
   ],
   "source": [
    "TABLE_NAME = 'wikipedia_embed'\n",
    "FIELD_NAME = 'embed_vector'\n",
    "PARTITION_NAME = 'wikipedia'\n",
    "COLLECTION_NAME = 'wikipedia_collection'\n",
    "\n",
    "dimension_size = len(embeddings[0])\n",
    "\n",
    "from pymilvus import Collection, CollectionSchema, FieldSchema, DataType\n",
    "\n",
    "pk = FieldSchema(name='id', dtype=DataType.INT64, is_primary=True, auto_id=True)\n",
    "\n",
    "field = FieldSchema(name=FIELD_NAME, dtype=DataType.FLOAT_VECTOR, dim=dimension_size)\n",
    "schema = CollectionSchema(fields=[pk,field], description=COLLECTION_NAME)\n",
    "\n",
    "if utility.get_connection().has_collection(COLLECTION_NAME): # drop the same collection created before\n",
    "    collection = Collection(COLLECTION_NAME)\n",
    "    collection.drop()\n",
    "\n",
    "collection = Collection(name=COLLECTION_NAME, schema=schema)\n",
    "partition = collection.create_partition(PARTITION_NAME)\n",
    "print(\"Collection & partition are successfully created.\")"
   ]
  },
  {
   "cell_type": "code",
   "execution_count": 8,
   "id": "2c6b4354-4024-4033-ae05-fcb413d2514f",
   "metadata": {},
   "outputs": [
    {
     "data": {
      "text/plain": [
       "Status(code=0, message='')"
      ]
     },
     "execution_count": 8,
     "metadata": {},
     "output_type": "execute_result"
    }
   ],
   "source": [
    "index_param = {\n",
    "        \"metric_type\":\"L2\",\n",
    "        \"index_type\":\"IVF_SQ8\",\n",
    "        \"params\":{\"nlist\":1024}\n",
    "    }\n",
    "\n",
    "collection.create_index(field_name=FIELD_NAME, index_params=index_param)"
   ]
  },
  {
   "cell_type": "code",
   "execution_count": 9,
   "id": "4f7c9105-3f33-4056-bb49-bdf2054b32cb",
   "metadata": {},
   "outputs": [],
   "source": [
    "emb_array = np.array(embeddings)\n",
    "emb_splits = np.array_split(emb_array, 4)\n",
    "\n",
    "ids = list()\n",
    "for emb_split in emb_splits:\n",
    "    mr_tmp = collection.insert([emb_split.tolist()])\n",
    "    ids.extend(mr_tmp.primary_keys)\n",
    "\n",
    "dicts ={}"
   ]
  },
  {
   "cell_type": "code",
   "execution_count": 10,
   "id": "156a27a9-d590-437d-a042-e09a708c40b6",
   "metadata": {},
   "outputs": [
    {
     "name": "stdout",
     "output_type": "stream",
     "text": [
      "create postgres table successfully!\n"
     ]
    }
   ],
   "source": [
    "#Deleting previouslny stored table for clean run\n",
    "drop_table = \"DROP TABLE IF EXISTS \" + TABLE_NAME\n",
    "cursor.execute(drop_table)\n",
    "conn.commit()\n",
    "\n",
    "try:\n",
    "    sql = \"CREATE TABLE if not exists \" + TABLE_NAME + \" (ids bigint, word text);\"\n",
    "    cursor.execute(sql)\n",
    "    conn.commit()\n",
    "    print(\"create postgres table successfully!\")\n",
    "except Exception as e:\n",
    "    print(\"can't create a postgres table: \", e)\n"
   ]
  },
  {
   "cell_type": "code",
   "execution_count": 11,
   "id": "56bc52fb-56bc-4b57-9722-e56c865ea452",
   "metadata": {},
   "outputs": [
    {
     "name": "stdout",
     "output_type": "stream",
     "text": [
      "Inserted into Postgress Sucessfully!\n"
     ]
    }
   ],
   "source": [
    "\n",
    "import os\n",
    "\n",
    "conn.commit()\n",
    "def copy_data_to_pg(table_name, fname, conn, cur):\n",
    "    fname = os.path.join(os.getcwd(),fname)\n",
    "    try:\n",
    "        sql = \"COPY \" + table_name + \" FROM STDIN (QUOTE E'\\u0007', FORMAT 'csv', DELIMITER '|')\"\n",
    "        cursor.copy_expert(sql, open(fname, \"r\"))\n",
    "        conn.commit()\n",
    "        print(\"Inserted into Postgress Sucessfully!\")\n",
    "    except Exception as e:\n",
    "        print(\"Copy Data into Postgress failed: \", e)\n",
    "\n",
    "filename = 'pgloadfile'\n",
    "\n",
    "with open(filename, 'w+') as f:\n",
    "    for i in range(len(ids)):\n",
    "        if words[i] not in (\"|\", \":|\"):\n",
    "            line = str(ids[i]) + \"|\" + words[i] + \"\\n\"\n",
    "            f.write(line)\n",
    "        \n",
    "copy_data_to_pg(TABLE_NAME, filename, conn, cursor)\n",
    "\n",
    "os.remove(filename)"
   ]
  },
  {
   "cell_type": "code",
   "execution_count": 12,
   "id": "74c68226-69f4-453b-8b1e-426d5451eb5f",
   "metadata": {},
   "outputs": [],
   "source": [
    "%%bash\n",
    "L_END_DOCKER=0\n",
    "\n",
    "if [[ ${L_END_DOCKER} -eq 1 ]]; then\n",
    "    docker-compose -f docker-images/docker-compose-milvus.yml down --remove-orphans\n",
    "    docker stop postgres0\n",
    "fi"
   ]
  },
  {
   "cell_type": "code",
   "execution_count": 13,
   "id": "0f76ae8a-5d04-4d85-84c3-16de1c3c4ae4",
   "metadata": {},
   "outputs": [],
   "source": [
    "#!docker-compose -f docker-images/docker-compose.yml down --remove-orphans"
   ]
  }
 ],
 "metadata": {
  "kernelspec": {
   "display_name": "Python 3 (ipykernel)",
   "language": "python",
   "name": "python3"
  },
  "language_info": {
   "codemirror_mode": {
    "name": "ipython",
    "version": 3
   },
   "file_extension": ".py",
   "mimetype": "text/x-python",
   "name": "python",
   "nbconvert_exporter": "python",
   "pygments_lexer": "ipython3",
   "version": "3.10.11"
  }
 },
 "nbformat": 4,
 "nbformat_minor": 5
}
